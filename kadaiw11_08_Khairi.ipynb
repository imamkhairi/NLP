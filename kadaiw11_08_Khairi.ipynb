{
  "nbformat": 4,
  "nbformat_minor": 0,
  "metadata": {
    "colab": {
      "provenance": [],
      "authorship_tag": "ABX9TyOej1+mvLJVWi1s5pz2M1Em",
      "include_colab_link": true
    },
    "kernelspec": {
      "name": "python3",
      "display_name": "Python 3"
    },
    "language_info": {
      "name": "python"
    }
  },
  "cells": [
    {
      "cell_type": "markdown",
      "metadata": {
        "id": "view-in-github",
        "colab_type": "text"
      },
      "source": [
        "<a href=\"https://colab.research.google.com/github/imamkhairi/NLP/blob/main/kadaiw11_08_Khairi.ipynb\" target=\"_parent\"><img src=\"https://colab.research.google.com/assets/colab-badge.svg\" alt=\"Open In Colab\"/></a>"
      ]
    },
    {
      "cell_type": "code",
      "source": [
        "!pip install janome"
      ],
      "metadata": {
        "colab": {
          "base_uri": "https://localhost:8080/"
        },
        "id": "rqZHWwZ4vLmq",
        "outputId": "ce43a60b-dda7-4be1-87dd-0b8c76cabcf8"
      },
      "execution_count": 1,
      "outputs": [
        {
          "output_type": "stream",
          "name": "stdout",
          "text": [
            "Looking in indexes: https://pypi.org/simple, https://us-python.pkg.dev/colab-wheels/public/simple/\n",
            "Collecting janome\n",
            "  Downloading Janome-0.4.2-py2.py3-none-any.whl (19.7 MB)\n",
            "\u001b[2K     \u001b[90m━━━━━━━━━━━━━━━━━━━━━━━━━━━━━━━━━━━━━━━━\u001b[0m \u001b[32m19.7/19.7 MB\u001b[0m \u001b[31m38.9 MB/s\u001b[0m eta \u001b[36m0:00:00\u001b[0m\n",
            "\u001b[?25hInstalling collected packages: janome\n",
            "Successfully installed janome-0.4.2\n"
          ]
        }
      ]
    },
    {
      "cell_type": "code",
      "source": [
        "from janome.tokenizer import Tokenizer\n",
        "\n",
        "t = Tokenizer()"
      ],
      "metadata": {
        "id": "p5zLytTVu3i2"
      },
      "execution_count": 2,
      "outputs": []
    },
    {
      "cell_type": "markdown",
      "source": [
        "##課題1-1"
      ],
      "metadata": {
        "id": "zOs8ZzPCubQb"
      }
    },
    {
      "cell_type": "code",
      "source": [
        "l = 'メロスは寒い冬に稚内から東京まで自転車で走った'\n",
        "\n",
        "\n",
        "print([token.surface for token in t.tokenize(l) if token.part_of_speech.startswith(\"名詞\")])\n",
        "print([token.surface for token in t.tokenize(l) if token.part_of_speech.startswith(\"助詞,格助詞\")])\n",
        "print([token.surface for token in t.tokenize(l) if token.part_of_speech.split(',')[0] in [\"名詞\", \"形容詞\"]])"
      ],
      "metadata": {
        "colab": {
          "base_uri": "https://localhost:8080/"
        },
        "id": "pG9wCzQku_n_",
        "outputId": "c3960fce-8436-44ae-d6ed-74d4c93833c7"
      },
      "execution_count": 7,
      "outputs": [
        {
          "output_type": "stream",
          "name": "stdout",
          "text": [
            "['メロス', '冬', '稚内', '東京', '自転車']\n",
            "['に', 'から', 'で']\n",
            "['メロス', '寒い', '冬', '稚内', '東京', '自転車']\n"
          ]
        }
      ]
    },
    {
      "cell_type": "markdown",
      "source": [
        "##課題1-2"
      ],
      "metadata": {
        "id": "0-AJs_AGvfDt"
      }
    },
    {
      "cell_type": "code",
      "source": [
        "from janome.tokenizer import Tokenizer\n",
        "\n",
        "t = Tokenizer()\n",
        "\n",
        "s = [\"お茶うけに干菓子ひがしをすすめるという思いつきは男性のものではなかった\", \n",
        "     \"現在の島町にあたる地域の戸数などに関する記録は以下の通りである\",\n",
        "     \"生徒を一人入学させれば歩合制で金がもらえるというシステムである\"]\n",
        "\n",
        "def token2genshi(input_token, hinshi):\n",
        "  if input_token.part_of_speech.split(\",\")[0] == hinshi:\n",
        "    return \"\"\n",
        "  else:\n",
        "    return input_token.reading\n",
        "\n",
        "result_str = \"\"\n",
        "\n",
        "for sentence in s:\n",
        "  for token in t.tokenize(sentence):\n",
        "    result_str += token2genshi(token, \"助詞\") + \" \"\n",
        "  print(result_str) \n",
        "  result_str = \"\""
      ],
      "metadata": {
        "colab": {
          "base_uri": "https://localhost:8080/"
        },
        "id": "_F0T9HuovjsH",
        "outputId": "9bb3c81e-6dd6-43eb-8757-a76f7bd10e0f"
      },
      "execution_count": 4,
      "outputs": [
        {
          "output_type": "stream",
          "name": "stdout",
          "text": [
            "オチャ ウケ  ヒガシ ヒガシ  ススメル  オモイツキ  ダンセイ  モノ デ  ナカッ タ \n",
            "ゲンザイ  シママチ  チイキ  コスウ   キロク  イカ  トオリ デ アル \n",
            "セイト  イチ ニン ニュウガク サ セレ  ブアイ セイ  キン  モラエル  システム デ アル \n"
          ]
        }
      ]
    },
    {
      "cell_type": "markdown",
      "source": [
        "##課題1-3"
      ],
      "metadata": {
        "id": "4mBLwrynwEJ9"
      }
    },
    {
      "cell_type": "code",
      "source": [
        "# Janomeのロード\n",
        "from janome.tokenizer import Tokenizer\n",
        "\n",
        "# Tokenizerインスタンスの生成 \n",
        "tokenizer = Tokenizer()\n",
        "\n",
        "# 日本語をゲンシゴにする関数\n",
        "def nihongo2gensigo(input_str):\n",
        "  # 形態素解析の実施\n",
        "  tokens = tokenizer.tokenize(input_str)\n",
        "  # 各token の変換結果を\" \"（半角スペース) でつなげる\n",
        "  result_str = \"\"\n",
        "  for token in tokens:\n",
        "    result_str += token2gensigo(token) + \" \"\n",
        "  return result_str\n",
        "\n",
        "# tokenが助詞の場合は空文字列、それ以外はヨミガナを返す関数\n",
        "def token2gensigo(input_token):\n",
        "  if input_token.part_of_speech.split(',')[0] == \"助詞\":\n",
        "    return \"\"\n",
        "  else:\n",
        "    return input_token.reading\n",
        "\n",
        "print(nihongo2gensigo(\"人民の人民による人民のための政治\"))"
      ],
      "metadata": {
        "colab": {
          "base_uri": "https://localhost:8080/"
        },
        "id": "0VyI4QTPwHN3",
        "outputId": "6bea6b8f-3def-4ff8-b67d-3bba3bfae643"
      },
      "execution_count": 5,
      "outputs": [
        {
          "output_type": "stream",
          "name": "stdout",
          "text": [
            "ジンミン  ジンミン  ジンミン  タメ  セイジ \n"
          ]
        }
      ]
    },
    {
      "cell_type": "code",
      "source": [
        "for sentence in s:\n",
        "  print(nihongo2gensigo(sentence))"
      ],
      "metadata": {
        "colab": {
          "base_uri": "https://localhost:8080/"
        },
        "id": "c-pB5LKowNlu",
        "outputId": "9e0bc324-14d4-42a2-d427-13290eaacf3d"
      },
      "execution_count": 6,
      "outputs": [
        {
          "output_type": "stream",
          "name": "stdout",
          "text": [
            "オチャ ウケ  ヒガシ ヒガシ  ススメル  オモイツキ  ダンセイ  モノ デ  ナカッ タ \n",
            "ゲンザイ  シママチ  チイキ  コスウ   キロク  イカ  トオリ デ アル \n",
            "セイト  イチ ニン ニュウガク サ セレ  ブアイ セイ  キン  モラエル  システム デ アル \n"
          ]
        }
      ]
    }
  ]
}