{
  "nbformat": 4,
  "nbformat_minor": 0,
  "metadata": {
    "colab": {
      "provenance": [],
      "authorship_tag": "ABX9TyP9oqIfQWD5vv35enO6JNpk",
      "include_colab_link": true
    },
    "kernelspec": {
      "name": "python3",
      "display_name": "Python 3"
    },
    "language_info": {
      "name": "python"
    }
  },
  "cells": [
    {
      "cell_type": "markdown",
      "metadata": {
        "id": "view-in-github",
        "colab_type": "text"
      },
      "source": [
        "<a href=\"https://colab.research.google.com/github/imamkhairi/NLP/blob/main/Test.ipynb\" target=\"_parent\"><img src=\"https://colab.research.google.com/assets/colab-badge.svg\" alt=\"Open In Colab\"/></a>"
      ]
    },
    {
      "cell_type": "markdown",
      "source": [
        "**Basic Python**"
      ],
      "metadata": {
        "id": "8Xi8kLGEESSt"
      }
    },
    {
      "cell_type": "code",
      "source": [
        "a = 123\n",
        "b = 123.456\n",
        "c = \"Hello\"\n",
        "d = True\n",
        "e = [1,2,3,4]"
      ],
      "metadata": {
        "id": "-kOWntScEYXd"
      },
      "execution_count": null,
      "outputs": []
    },
    {
      "cell_type": "code",
      "source": [
        "for i in range(2,4):\n",
        "  print(i)"
      ],
      "metadata": {
        "colab": {
          "base_uri": "https://localhost:8080/"
        },
        "id": "wlsLGWxOEc2O",
        "outputId": "e42c2ea3-9268-466c-9fbb-8fa568bf508d"
      },
      "execution_count": null,
      "outputs": [
        {
          "output_type": "stream",
          "name": "stdout",
          "text": [
            "2\n",
            "3\n"
          ]
        }
      ]
    },
    {
      "cell_type": "code",
      "source": [
        "a = 5\n",
        "b = 3\n",
        "print(a/b)\n",
        "print(a//b)"
      ],
      "metadata": {
        "id": "X6TAwHJP6a4k",
        "outputId": "46254a1d-04b8-4fc9-d48b-2f6b2af944cf",
        "colab": {
          "base_uri": "https://localhost:8080/"
        }
      },
      "execution_count": null,
      "outputs": [
        {
          "output_type": "stream",
          "name": "stdout",
          "text": [
            "1.6666666666666667\n",
            "1\n"
          ]
        }
      ]
    },
    {
      "cell_type": "code",
      "source": [
        "a = [1, 2, 3, 4, 5]\n",
        "\n",
        "a.append(69)\n",
        "print(a)\n",
        "\n",
        "a[2] = 5\n",
        "print(a)"
      ],
      "metadata": {
        "id": "-FRmyFQu6c5O",
        "outputId": "585be86a-72a3-4c7b-e6d0-59b383209485",
        "colab": {
          "base_uri": "https://localhost:8080/"
        }
      },
      "execution_count": null,
      "outputs": [
        {
          "output_type": "stream",
          "name": "stdout",
          "text": [
            "[1, 2, 3, 4, 5, 69]\n",
            "[1, 2, 5, 4, 5, 69]\n"
          ]
        }
      ]
    },
    {
      "cell_type": "code",
      "source": [
        "a = (1,2,4)\n",
        "print(a[2])"
      ],
      "metadata": {
        "id": "NSjr4fZ9_vfr",
        "outputId": "d3a35faf-3c74-4b98-83f3-9568b153c418",
        "colab": {
          "base_uri": "https://localhost:8080/"
        }
      },
      "execution_count": null,
      "outputs": [
        {
          "output_type": "stream",
          "name": "stdout",
          "text": [
            "4\n"
          ]
        }
      ]
    },
    {
      "cell_type": "code",
      "source": [
        "a = [1,2,5]\n",
        "a1, a2, a3 = a\n",
        "print(a1, a2, a3)\n",
        "\n",
        "b = (4,5,6)\n",
        "b1,b2,b3 = b\n",
        "print(b1,b2,b3)"
      ],
      "metadata": {
        "id": "IG676l5sAjXn",
        "outputId": "04e16b08-6490-48ca-baac-74a06dee67f4",
        "colab": {
          "base_uri": "https://localhost:8080/"
        }
      },
      "execution_count": null,
      "outputs": [
        {
          "output_type": "stream",
          "name": "stdout",
          "text": [
            "1 2 5\n",
            "4 5 6\n"
          ]
        }
      ]
    },
    {
      "cell_type": "code",
      "source": [
        "for a in [1,23,4]: \n",
        "  print(a)\n",
        "\n",
        "for a in range(3,5):\n",
        "  print(a)\n",
        "\n",
        "for a in range(3):\n",
        "  print(a)\n"
      ],
      "metadata": {
        "id": "HbT84JbRB4YX",
        "outputId": "8a904e05-87b3-4a78-a9fe-a80ee5346754",
        "colab": {
          "base_uri": "https://localhost:8080/"
        }
      },
      "execution_count": null,
      "outputs": [
        {
          "output_type": "stream",
          "name": "stdout",
          "text": [
            "1\n",
            "23\n",
            "4\n",
            "3\n",
            "4\n",
            "0\n",
            "1\n",
            "2\n"
          ]
        }
      ]
    },
    {
      "cell_type": "code",
      "source": [
        "def add(a,b):\n",
        "  c = a+b\n",
        "  return c\n",
        "\n",
        "print(add(6,8))"
      ],
      "metadata": {
        "id": "QwzLkabwCJzq",
        "outputId": "8865e069-bd4e-4a7c-f39c-0df427ccada9",
        "colab": {
          "base_uri": "https://localhost:8080/"
        }
      },
      "execution_count": null,
      "outputs": [
        {
          "output_type": "stream",
          "name": "stdout",
          "text": [
            "14\n"
          ]
        }
      ]
    },
    {
      "cell_type": "markdown",
      "source": [
        "tupple dan list bisa dipassing ke function langsung gt"
      ],
      "metadata": {
        "id": "3jA3ezI2CdPL"
      }
    },
    {
      "cell_type": "code",
      "source": [
        "def add(a,b,c):\n",
        "  d = a + b + c\n",
        "  return d\n",
        "\n",
        "e = (1,2,3)\n",
        "f = [2,4,5]\n",
        "print(add(*e))\n",
        "print(add(*f))"
      ],
      "metadata": {
        "id": "JC2SmS5BCyGv",
        "outputId": "4fb13cf9-f192-48b5-82b3-79586377a876",
        "colab": {
          "base_uri": "https://localhost:8080/"
        }
      },
      "execution_count": null,
      "outputs": [
        {
          "output_type": "stream",
          "name": "stdout",
          "text": [
            "6\n",
            "11\n"
          ]
        }
      ]
    },
    {
      "cell_type": "code",
      "source": [
        "a = 123\n",
        "\n",
        "def setLocal(n):\n",
        "  a = 456\n",
        "  print(a)\n",
        "\n",
        "setLocal(a)\n",
        "print(a)"
      ],
      "metadata": {
        "id": "7HmtREEdC77q",
        "outputId": "82860c79-a274-4318-f6e8-934e03e483e0",
        "colab": {
          "base_uri": "https://localhost:8080/"
        }
      },
      "execution_count": null,
      "outputs": [
        {
          "output_type": "stream",
          "name": "stdout",
          "text": [
            "456\n",
            "123\n"
          ]
        }
      ]
    },
    {
      "cell_type": "code",
      "source": [
        "class Calc:\n",
        "  def __init__(self, a):\n",
        "    self.a = a\n",
        "\n",
        "  def add(self, b):\n",
        "    print(self.a + b)\n",
        "  \n",
        "  def mul(self, b):\n",
        "    print(self.a * b)"
      ],
      "metadata": {
        "id": "uY71zE3TDWaV"
      },
      "execution_count": null,
      "outputs": []
    },
    {
      "cell_type": "code",
      "source": [
        "calc = Calc(3)\n",
        "calc.add(4)\n",
        "calc.mul(9)"
      ],
      "metadata": {
        "id": "0MB9ssEmHOok",
        "outputId": "cc98d2d4-30ff-4d1e-eb86-02647ba914ec",
        "colab": {
          "base_uri": "https://localhost:8080/"
        }
      },
      "execution_count": null,
      "outputs": [
        {
          "output_type": "stream",
          "name": "stdout",
          "text": [
            "7\n",
            "27\n"
          ]
        }
      ]
    },
    {
      "cell_type": "markdown",
      "source": [
        "* Cara inheritance"
      ],
      "metadata": {
        "id": "duodOqPWHVc3"
      }
    },
    {
      "cell_type": "code",
      "source": [
        "class CalcPlus(Calc):\n",
        "  def substract(self, b):\n",
        "    print(self.a - b)"
      ],
      "metadata": {
        "id": "Rt940STaIPf1"
      },
      "execution_count": null,
      "outputs": []
    },
    {
      "cell_type": "code",
      "source": [
        "calcPlus = CalcPlus(4)\n",
        "calcPlus.substract(5)"
      ],
      "metadata": {
        "id": "uJ25C6XoIq9q",
        "outputId": "62520259-7b7a-44a0-f894-515eb7635a35",
        "colab": {
          "base_uri": "https://localhost:8080/"
        }
      },
      "execution_count": null,
      "outputs": [
        {
          "output_type": "stream",
          "name": "stdout",
          "text": [
            "-1\n"
          ]
        }
      ]
    },
    {
      "cell_type": "code",
      "source": [
        "!pwd"
      ],
      "metadata": {
        "id": "Ca4HrMpjIx5a",
        "outputId": "55c902cf-75ab-47a5-d644-21af167f2519",
        "colab": {
          "base_uri": "https://localhost:8080/"
        }
      },
      "execution_count": null,
      "outputs": [
        {
          "output_type": "stream",
          "name": "stdout",
          "text": [
            "/content\n"
          ]
        }
      ]
    },
    {
      "cell_type": "code",
      "source": [
        "!ls"
      ],
      "metadata": {
        "id": "-bP90KQ1I2HQ",
        "outputId": "674051d5-ce9e-4b2e-97de-7614ba5d338c",
        "colab": {
          "base_uri": "https://localhost:8080/"
        }
      },
      "execution_count": null,
      "outputs": [
        {
          "output_type": "stream",
          "name": "stdout",
          "text": [
            "sample_data\n"
          ]
        }
      ]
    },
    {
      "cell_type": "code",
      "source": [
        "!date"
      ],
      "metadata": {
        "id": "T8ujeYg0I3TU",
        "outputId": "e046f0e2-0a49-4b6e-f11a-7a354f02275a",
        "colab": {
          "base_uri": "https://localhost:8080/"
        }
      },
      "execution_count": null,
      "outputs": [
        {
          "output_type": "stream",
          "name": "stdout",
          "text": [
            "Thu 19 Jan 2023 01:06:43 PM UTC\n"
          ]
        }
      ]
    },
    {
      "cell_type": "code",
      "source": [
        "!pip show request"
      ],
      "metadata": {
        "id": "_wQ97omOI4RS",
        "outputId": "938e9849-38a4-4b39-bbb6-26dd853f7954",
        "colab": {
          "base_uri": "https://localhost:8080/"
        }
      },
      "execution_count": 37,
      "outputs": [
        {
          "output_type": "stream",
          "name": "stdout",
          "text": [
            "\u001b[33mWARNING: Package(s) not found: request\u001b[0m\u001b[33m\n",
            "\u001b[0m"
          ]
        }
      ]
    },
    {
      "cell_type": "markdown",
      "source": [
        "\n",
        "\n",
        "---\n",
        "\n",
        "---\n",
        "\n",
        "\n",
        "**BASIC JANOME**"
      ],
      "metadata": {
        "id": "G8eQXi74JKJF"
      }
    },
    {
      "cell_type": "code",
      "source": [
        "!pip install janome"
      ],
      "metadata": {
        "id": "q5LiefiHJOvo",
        "outputId": "b396e29a-10fc-4e0d-a1ac-99d9a74b0a31",
        "colab": {
          "base_uri": "https://localhost:8080/"
        }
      },
      "execution_count": 39,
      "outputs": [
        {
          "output_type": "stream",
          "name": "stdout",
          "text": [
            "Looking in indexes: https://pypi.org/simple, https://us-python.pkg.dev/colab-wheels/public/simple/\n",
            "Collecting janome\n",
            "  Downloading Janome-0.4.2-py2.py3-none-any.whl (19.7 MB)\n",
            "\u001b[2K     \u001b[90m━━━━━━━━━━━━━━━━━━━━━━━━━━━━━━━━━━━━━━━━\u001b[0m \u001b[32m19.7/19.7 MB\u001b[0m \u001b[31m38.4 MB/s\u001b[0m eta \u001b[36m0:00:00\u001b[0m\n",
            "\u001b[?25hInstalling collected packages: janome\n",
            "Successfully installed janome-0.4.2\n"
          ]
        }
      ]
    },
    {
      "cell_type": "code",
      "source": [
        "from janome.tokenizer import Tokenizer\n",
        "\n",
        "t = Tokenizer()\n",
        "\n",
        "s = 'すもももももももものうち'\n",
        "\n",
        "print(type(t.tokenize(s)))\n",
        "# print(type(t.tokenize(s)[0]))"
      ],
      "metadata": {
        "id": "DC-PT9EOJ09p",
        "outputId": "d2aee077-2e71-461d-842d-ec566eeb7939",
        "colab": {
          "base_uri": "https://localhost:8080/"
        }
      },
      "execution_count": 43,
      "outputs": [
        {
          "output_type": "stream",
          "name": "stdout",
          "text": [
            "<class 'generator'>\n"
          ]
        }
      ]
    },
    {
      "cell_type": "code",
      "source": [
        "t = Tokenizer()\n",
        "\n",
        "s = 'すもももももももものうち'\n",
        "\n",
        "for token in t.tokenize(s):\n",
        "    print(token)"
      ],
      "metadata": {
        "id": "ftEALXtbK6CN",
        "outputId": "b50078e2-c876-4d12-9113-20862e72467f",
        "colab": {
          "base_uri": "https://localhost:8080/"
        }
      },
      "execution_count": 58,
      "outputs": [
        {
          "output_type": "stream",
          "name": "stdout",
          "text": [
            "すもも\t名詞,一般,*,*,*,*,すもも,スモモ,スモモ\n",
            "も\t助詞,係助詞,*,*,*,*,も,モ,モ\n",
            "もも\t名詞,一般,*,*,*,*,もも,モモ,モモ\n",
            "も\t助詞,係助詞,*,*,*,*,も,モ,モ\n",
            "もも\t名詞,一般,*,*,*,*,もも,モモ,モモ\n",
            "の\t助詞,連体化,*,*,*,*,の,ノ,ノ\n",
            "うち\t名詞,非自立,副詞可能,*,*,*,うち,ウチ,ウチ\n"
          ]
        }
      ]
    },
    {
      "cell_type": "markdown",
      "source": [
        "|token.メソッド|機能|\n",
        "|----------------------|-------------------------------------------------------------------|\n",
        "|surface|文字列中で使われているそのままの形|\n",
        "|part_of_speech|品詞|\n",
        "|infl_type|活用型|\n",
        "|infl_form|活用形|\n",
        "|base_form|基本形，見出し語|\n",
        "|reading|読み|\n",
        "|phonetic|発音|"
      ],
      "metadata": {
        "id": "4ocVxfSrUcMM"
      }
    },
    {
      "cell_type": "code",
      "source": [
        "t = Tokenizer()\n",
        "\n",
        "token = t.tokenize('走れ')\n",
        "\n",
        "print(type(token))\n",
        "\n",
        "for t in token:\n",
        "  print(t)\n",
        "  print(t.surface) \n",
        "  print(t.part_of_speech.split(\",\"))\n",
        "  print(t.infl_type)\n",
        "  print(t.infl_form)\n",
        "  print(t.base_form)\n",
        "  print(t.reading)\n",
        "  print(t.phonetic)"
      ],
      "metadata": {
        "id": "3WcZEZxMLajJ",
        "outputId": "c0b82f9d-8a36-4146-b5b7-34a70db36752",
        "colab": {
          "base_uri": "https://localhost:8080/"
        }
      },
      "execution_count": 83,
      "outputs": [
        {
          "output_type": "stream",
          "name": "stdout",
          "text": [
            "<class 'generator'>\n",
            "走れ\t動詞,自立,*,*,五段・ラ行,命令ｅ,走る,ハシレ,ハシレ\n",
            "走れ\n",
            "['動詞', '自立', '*', '*']\n",
            "五段・ラ行\n",
            "命令ｅ\n",
            "走る\n",
            "ハシレ\n",
            "ハシレ\n"
          ]
        }
      ]
    },
    {
      "cell_type": "code",
      "source": [
        "t = Tokenizer()\n",
        "\n",
        "s = '走れと言われたので走ると言った'\n",
        "\n",
        "for token in t.tokenize(s):\n",
        "  print(token)\n"
      ],
      "metadata": {
        "id": "bFKqRyw2M7SU",
        "outputId": "8a91c42d-ca8a-4fcb-e0c9-a5dfbc50174b",
        "colab": {
          "base_uri": "https://localhost:8080/"
        }
      },
      "execution_count": 89,
      "outputs": [
        {
          "output_type": "stream",
          "name": "stdout",
          "text": [
            "走れ\t動詞,自立,*,*,五段・ラ行,命令ｅ,走る,ハシレ,ハシレ\n",
            "と\t助詞,格助詞,引用,*,*,*,と,ト,ト\n",
            "言わ\t動詞,自立,*,*,五段・ワ行促音便,未然形,言う,イワ,イワ\n",
            "れ\t動詞,接尾,*,*,一段,連用形,れる,レ,レ\n",
            "た\t助動詞,*,*,*,特殊・タ,基本形,た,タ,タ\n",
            "ので\t助詞,接続助詞,*,*,*,*,ので,ノデ,ノデ\n",
            "走る\t動詞,自立,*,*,五段・ラ行,基本形,走る,ハシル,ハシル\n",
            "と\t助詞,格助詞,引用,*,*,*,と,ト,ト\n",
            "言っ\t動詞,自立,*,*,五段・ワ行促音便,連用タ接続,言う,イッ,イッ\n",
            "た\t助動詞,*,*,*,特殊・タ,基本形,た,タ,タ\n",
            "<generator object Tokenizer.__tokenize_stream at 0x7fa1db57ae40>\n"
          ]
        }
      ]
    },
    {
      "cell_type": "code",
      "source": [
        "# kalau wakati true itu dia jadi return list of string \n",
        "# bukan list of token object\n",
        "\n",
        "a = []\n",
        "for token in t.tokenize(s, wakati=True):\n",
        "  a.append(token)\n",
        "\n",
        "print(a)"
      ],
      "metadata": {
        "id": "SkYdk-jhUK8G",
        "outputId": "f4e2c8e2-fd63-4aba-add9-7bc84043ad32",
        "colab": {
          "base_uri": "https://localhost:8080/"
        }
      },
      "execution_count": 104,
      "outputs": [
        {
          "output_type": "stream",
          "name": "stdout",
          "text": [
            "['走れ', 'と', '言わ', 'れ', 'た', 'ので', '走る', 'と', '言っ', 'た']\n"
          ]
        }
      ]
    },
    {
      "cell_type": "code",
      "source": [
        "print([token.surface for token in t.tokenize(s)])"
      ],
      "metadata": {
        "id": "IIefZ1E3VBzN",
        "outputId": "ce5f1968-09dd-437f-9cf3-9ed6e8e11a0f",
        "colab": {
          "base_uri": "https://localhost:8080/"
        }
      },
      "execution_count": 95,
      "outputs": [
        {
          "output_type": "stream",
          "name": "stdout",
          "text": [
            "['走れ', 'と', '言わ', 'れ', 'た', 'ので', '走る', 'と', '言っ', 'た']\n"
          ]
        }
      ]
    },
    {
      "cell_type": "code",
      "source": [
        "print([token.base_form for token in t.tokenize(s)])\n",
        "print([token.part_of_speech.split(',')[0] for token in t.tokenize(s)])"
      ],
      "metadata": {
        "id": "lVuDDAlSVP8u",
        "outputId": "fdcd1f05-36df-40f4-b327-f935355589ad",
        "colab": {
          "base_uri": "https://localhost:8080/"
        }
      },
      "execution_count": 110,
      "outputs": [
        {
          "output_type": "stream",
          "name": "stdout",
          "text": [
            "['走る', 'と', '言う', 'れる', 'た', 'ので', '走る', 'と', '言う', 'た']\n",
            "['動詞', '助詞', '動詞', '動詞', '助動詞', '助詞', '動詞', '助詞', '動詞', '助動詞']\n"
          ]
        }
      ]
    },
    {
      "cell_type": "code",
      "source": [
        "# perhatikan gimana penggunaan for dan if sama statrswith()\n",
        "print([token.surface for token in t.tokenize(s) if token.part_of_speech.startswith('動詞')])\n",
        "print([token.surface for token in t.tokenize(s) if token.part_of_speech.startswith('動詞,自立')])"
      ],
      "metadata": {
        "id": "ZttJ70sIWhq7",
        "outputId": "d180b986-ea2b-4a07-a538-b70a36c862c3",
        "colab": {
          "base_uri": "https://localhost:8080/"
        }
      },
      "execution_count": 114,
      "outputs": [
        {
          "output_type": "stream",
          "name": "stdout",
          "text": [
            "['走れ', '言わ', 'れ', '走る', '言っ']\n",
            "['走れ', '言わ', '走る', '言っ']\n"
          ]
        }
      ]
    }
  ]
}