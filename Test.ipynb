{
  "nbformat": 4,
  "nbformat_minor": 0,
  "metadata": {
    "colab": {
      "provenance": [],
      "authorship_tag": "ABX9TyM/OFzj66+G4pfSSosk3+dd",
      "include_colab_link": true
    },
    "kernelspec": {
      "name": "python3",
      "display_name": "Python 3"
    },
    "language_info": {
      "name": "python"
    }
  },
  "cells": [
    {
      "cell_type": "markdown",
      "metadata": {
        "id": "view-in-github",
        "colab_type": "text"
      },
      "source": [
        "<a href=\"https://colab.research.google.com/github/imamkhairi/NLP/blob/main/Test.ipynb\" target=\"_parent\"><img src=\"https://colab.research.google.com/assets/colab-badge.svg\" alt=\"Open In Colab\"/></a>"
      ]
    },
    {
      "cell_type": "markdown",
      "source": [
        "**Basic Python**"
      ],
      "metadata": {
        "id": "8Xi8kLGEESSt"
      }
    },
    {
      "cell_type": "code",
      "source": [
        "a = 123\n",
        "b = 123.456\n",
        "c = \"Hello\"\n",
        "d = True\n",
        "e = [1,2,3,4]"
      ],
      "metadata": {
        "id": "-kOWntScEYXd"
      },
      "execution_count": null,
      "outputs": []
    },
    {
      "cell_type": "code",
      "source": [
        "for i in range(2,4):\n",
        "  print(i)"
      ],
      "metadata": {
        "colab": {
          "base_uri": "https://localhost:8080/"
        },
        "id": "wlsLGWxOEc2O",
        "outputId": "e42c2ea3-9268-466c-9fbb-8fa568bf508d"
      },
      "execution_count": null,
      "outputs": [
        {
          "output_type": "stream",
          "name": "stdout",
          "text": [
            "2\n",
            "3\n"
          ]
        }
      ]
    },
    {
      "cell_type": "code",
      "source": [
        "a = 5\n",
        "b = 3\n",
        "print(a/b)\n",
        "print(a//b)"
      ],
      "metadata": {
        "id": "X6TAwHJP6a4k",
        "outputId": "46254a1d-04b8-4fc9-d48b-2f6b2af944cf",
        "colab": {
          "base_uri": "https://localhost:8080/"
        }
      },
      "execution_count": 10,
      "outputs": [
        {
          "output_type": "stream",
          "name": "stdout",
          "text": [
            "1.6666666666666667\n",
            "1\n"
          ]
        }
      ]
    },
    {
      "cell_type": "code",
      "source": [
        "a = [1, 2, 3, 4, 5]\n",
        "\n",
        "a.append(69)\n",
        "print(a)\n",
        "\n",
        "a[2] = 5\n",
        "print(a)"
      ],
      "metadata": {
        "id": "-FRmyFQu6c5O",
        "outputId": "585be86a-72a3-4c7b-e6d0-59b383209485",
        "colab": {
          "base_uri": "https://localhost:8080/"
        }
      },
      "execution_count": 13,
      "outputs": [
        {
          "output_type": "stream",
          "name": "stdout",
          "text": [
            "[1, 2, 3, 4, 5, 69]\n",
            "[1, 2, 5, 4, 5, 69]\n"
          ]
        }
      ]
    },
    {
      "cell_type": "code",
      "source": [
        "a = (1,2,4)\n",
        "print(a[2])"
      ],
      "metadata": {
        "id": "NSjr4fZ9_vfr",
        "outputId": "d3a35faf-3c74-4b98-83f3-9568b153c418",
        "colab": {
          "base_uri": "https://localhost:8080/"
        }
      },
      "execution_count": 14,
      "outputs": [
        {
          "output_type": "stream",
          "name": "stdout",
          "text": [
            "4\n"
          ]
        }
      ]
    },
    {
      "cell_type": "code",
      "source": [
        "a = [1,2,5]\n",
        "a1, a2, a3 = a\n",
        "print(a1, a2, a3)\n",
        "\n",
        "b = (4,5,6)\n",
        "b1,b2,b3 = b\n",
        "print(b1,b2,b3)"
      ],
      "metadata": {
        "id": "IG676l5sAjXn",
        "outputId": "04e16b08-6490-48ca-baac-74a06dee67f4",
        "colab": {
          "base_uri": "https://localhost:8080/"
        }
      },
      "execution_count": 17,
      "outputs": [
        {
          "output_type": "stream",
          "name": "stdout",
          "text": [
            "1 2 5\n",
            "4 5 6\n"
          ]
        }
      ]
    },
    {
      "cell_type": "code",
      "source": [
        "for a in [1,23,4]: \n",
        "  print(a)\n",
        "\n",
        "for a in range(3,5):\n",
        "  print(a)\n",
        "\n",
        "for a in range(3):\n",
        "  print(a)\n"
      ],
      "metadata": {
        "id": "HbT84JbRB4YX",
        "outputId": "8a904e05-87b3-4a78-a9fe-a80ee5346754",
        "colab": {
          "base_uri": "https://localhost:8080/"
        }
      },
      "execution_count": 20,
      "outputs": [
        {
          "output_type": "stream",
          "name": "stdout",
          "text": [
            "1\n",
            "23\n",
            "4\n",
            "3\n",
            "4\n",
            "0\n",
            "1\n",
            "2\n"
          ]
        }
      ]
    },
    {
      "cell_type": "code",
      "source": [
        "def add(a,b):\n",
        "  c = a+b\n",
        "  return c\n",
        "\n",
        "print(add(6,8))"
      ],
      "metadata": {
        "id": "QwzLkabwCJzq",
        "outputId": "8865e069-bd4e-4a7c-f39c-0df427ccada9",
        "colab": {
          "base_uri": "https://localhost:8080/"
        }
      },
      "execution_count": 21,
      "outputs": [
        {
          "output_type": "stream",
          "name": "stdout",
          "text": [
            "14\n"
          ]
        }
      ]
    },
    {
      "cell_type": "markdown",
      "source": [
        "tupple dan list bisa dipassing ke function langsung gt"
      ],
      "metadata": {
        "id": "3jA3ezI2CdPL"
      }
    },
    {
      "cell_type": "code",
      "source": [
        "def add(a,b,c):\n",
        "  d = a + b + c\n",
        "  return d\n",
        "\n",
        "e = (1,2,3)\n",
        "f = [2,4,5]\n",
        "print(add(*e))\n",
        "print(add(*f))"
      ],
      "metadata": {
        "id": "JC2SmS5BCyGv",
        "outputId": "4fb13cf9-f192-48b5-82b3-79586377a876",
        "colab": {
          "base_uri": "https://localhost:8080/"
        }
      },
      "execution_count": 24,
      "outputs": [
        {
          "output_type": "stream",
          "name": "stdout",
          "text": [
            "6\n",
            "11\n"
          ]
        }
      ]
    },
    {
      "cell_type": "code",
      "source": [
        "a = 123\n",
        "\n",
        "def setLocal(n):\n",
        "  a = 456\n",
        "  print(a)\n",
        "\n",
        "setLocal(a)\n",
        "print(a)"
      ],
      "metadata": {
        "id": "7HmtREEdC77q",
        "outputId": "82860c79-a274-4318-f6e8-934e03e483e0",
        "colab": {
          "base_uri": "https://localhost:8080/"
        }
      },
      "execution_count": 26,
      "outputs": [
        {
          "output_type": "stream",
          "name": "stdout",
          "text": [
            "456\n",
            "123\n"
          ]
        }
      ]
    },
    {
      "cell_type": "code",
      "source": [
        "class Calc:\n",
        "  def __init__(self, a):\n",
        "    self.a = a\n",
        "\n",
        "  def add(self, b):\n",
        "    print(self.a + b)\n",
        "  \n",
        "  def mul(self, b):\n",
        "    print(self.a * b)"
      ],
      "metadata": {
        "id": "uY71zE3TDWaV"
      },
      "execution_count": 27,
      "outputs": []
    },
    {
      "cell_type": "code",
      "source": [
        "calc = Calc(3)\n",
        "calc.add(4)\n",
        "calc.mul(9)"
      ],
      "metadata": {
        "id": "0MB9ssEmHOok",
        "outputId": "cc98d2d4-30ff-4d1e-eb86-02647ba914ec",
        "colab": {
          "base_uri": "https://localhost:8080/"
        }
      },
      "execution_count": 28,
      "outputs": [
        {
          "output_type": "stream",
          "name": "stdout",
          "text": [
            "7\n",
            "27\n"
          ]
        }
      ]
    },
    {
      "cell_type": "markdown",
      "source": [
        "* Cara inheritance"
      ],
      "metadata": {
        "id": "duodOqPWHVc3"
      }
    },
    {
      "cell_type": "code",
      "source": [
        "class CalcPlus(Calc):\n",
        "  def substract(self, b):\n",
        "    print(self.a - b)"
      ],
      "metadata": {
        "id": "Rt940STaIPf1"
      },
      "execution_count": 31,
      "outputs": []
    },
    {
      "cell_type": "code",
      "source": [
        "calcPlus = CalcPlus(4)\n",
        "calcPlus.substract(5)"
      ],
      "metadata": {
        "id": "uJ25C6XoIq9q",
        "outputId": "62520259-7b7a-44a0-f894-515eb7635a35",
        "colab": {
          "base_uri": "https://localhost:8080/"
        }
      },
      "execution_count": 32,
      "outputs": [
        {
          "output_type": "stream",
          "name": "stdout",
          "text": [
            "-1\n"
          ]
        }
      ]
    },
    {
      "cell_type": "code",
      "source": [
        "!pwd"
      ],
      "metadata": {
        "id": "Ca4HrMpjIx5a",
        "outputId": "55c902cf-75ab-47a5-d644-21af167f2519",
        "colab": {
          "base_uri": "https://localhost:8080/"
        }
      },
      "execution_count": 33,
      "outputs": [
        {
          "output_type": "stream",
          "name": "stdout",
          "text": [
            "/content\n"
          ]
        }
      ]
    },
    {
      "cell_type": "code",
      "source": [
        "!ls"
      ],
      "metadata": {
        "id": "-bP90KQ1I2HQ",
        "outputId": "674051d5-ce9e-4b2e-97de-7614ba5d338c",
        "colab": {
          "base_uri": "https://localhost:8080/"
        }
      },
      "execution_count": 34,
      "outputs": [
        {
          "output_type": "stream",
          "name": "stdout",
          "text": [
            "sample_data\n"
          ]
        }
      ]
    },
    {
      "cell_type": "code",
      "source": [
        "!date"
      ],
      "metadata": {
        "id": "T8ujeYg0I3TU",
        "outputId": "e046f0e2-0a49-4b6e-f11a-7a354f02275a",
        "colab": {
          "base_uri": "https://localhost:8080/"
        }
      },
      "execution_count": 35,
      "outputs": [
        {
          "output_type": "stream",
          "name": "stdout",
          "text": [
            "Thu 19 Jan 2023 01:06:43 PM UTC\n"
          ]
        }
      ]
    },
    {
      "cell_type": "code",
      "source": [
        "!pip show request"
      ],
      "metadata": {
        "id": "_wQ97omOI4RS",
        "outputId": "76d6d9dd-16c2-4e60-92db-566ddace1b35",
        "colab": {
          "base_uri": "https://localhost:8080/"
        }
      },
      "execution_count": 36,
      "outputs": [
        {
          "output_type": "stream",
          "name": "stdout",
          "text": [
            "\u001b[33mWARNING: Package(s) not found: request\u001b[0m\u001b[33m\n",
            "\u001b[0m"
          ]
        }
      ]
    }
  ]
}