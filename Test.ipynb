{
  "nbformat": 4,
  "nbformat_minor": 0,
  "metadata": {
    "colab": {
      "provenance": [],
      "authorship_tag": "ABX9TyOzI5DwpYbLXsZFMlPB0Yi6",
      "include_colab_link": true
    },
    "kernelspec": {
      "name": "python3",
      "display_name": "Python 3"
    },
    "language_info": {
      "name": "python"
    }
  },
  "cells": [
    {
      "cell_type": "markdown",
      "metadata": {
        "id": "view-in-github",
        "colab_type": "text"
      },
      "source": [
        "<a href=\"https://colab.research.google.com/github/imamkhairi/NLP/blob/main/Test.ipynb\" target=\"_parent\"><img src=\"https://colab.research.google.com/assets/colab-badge.svg\" alt=\"Open In Colab\"/></a>"
      ]
    },
    {
      "cell_type": "markdown",
      "source": [
        "**Basic Python**"
      ],
      "metadata": {
        "id": "8Xi8kLGEESSt"
      }
    },
    {
      "cell_type": "code",
      "source": [
        "a = 123\n",
        "b = 123.456\n",
        "c = \"Hello\"\n",
        "d = True\n",
        "e = [1,2,3,4]"
      ],
      "metadata": {
        "id": "-kOWntScEYXd"
      },
      "execution_count": 126,
      "outputs": []
    },
    {
      "cell_type": "code",
      "source": [
        "for i in range(2,4):\n",
        "  print(i)"
      ],
      "metadata": {
        "colab": {
          "base_uri": "https://localhost:8080/"
        },
        "id": "wlsLGWxOEc2O",
        "outputId": "b6f835f3-be17-4d3b-890f-38f01ce3fe70"
      },
      "execution_count": 127,
      "outputs": [
        {
          "output_type": "stream",
          "name": "stdout",
          "text": [
            "2\n",
            "3\n"
          ]
        }
      ]
    },
    {
      "cell_type": "code",
      "source": [
        "a = 5\n",
        "b = 3\n",
        "print(a/b)\n",
        "print(a//b)"
      ],
      "metadata": {
        "id": "X6TAwHJP6a4k",
        "outputId": "4ce53ec5-a262-4910-95e5-98497900d43d",
        "colab": {
          "base_uri": "https://localhost:8080/"
        }
      },
      "execution_count": 128,
      "outputs": [
        {
          "output_type": "stream",
          "name": "stdout",
          "text": [
            "1.6666666666666667\n",
            "1\n"
          ]
        }
      ]
    },
    {
      "cell_type": "code",
      "source": [
        "a = [1, 2, 3, 4, 5]\n",
        "\n",
        "a.append(69)\n",
        "print(a)\n",
        "\n",
        "a[2] = 5\n",
        "print(a)"
      ],
      "metadata": {
        "id": "-FRmyFQu6c5O",
        "outputId": "f0ceb8db-3f1b-44ab-933b-351d1fab8e40",
        "colab": {
          "base_uri": "https://localhost:8080/"
        }
      },
      "execution_count": 129,
      "outputs": [
        {
          "output_type": "stream",
          "name": "stdout",
          "text": [
            "[1, 2, 3, 4, 5, 69]\n",
            "[1, 2, 5, 4, 5, 69]\n"
          ]
        }
      ]
    },
    {
      "cell_type": "code",
      "source": [
        "a = (1,2,4)\n",
        "print(a[2])"
      ],
      "metadata": {
        "id": "NSjr4fZ9_vfr",
        "outputId": "1d70b8b8-089e-4615-ef10-a0604c85d16d",
        "colab": {
          "base_uri": "https://localhost:8080/"
        }
      },
      "execution_count": 130,
      "outputs": [
        {
          "output_type": "stream",
          "name": "stdout",
          "text": [
            "4\n"
          ]
        }
      ]
    },
    {
      "cell_type": "code",
      "source": [
        "a = [1,2,5]\n",
        "a1, a2, a3 = a\n",
        "print(a1, a2, a3)\n",
        "\n",
        "b = (4,5,6)\n",
        "b1,b2,b3 = b\n",
        "print(b1,b2,b3)"
      ],
      "metadata": {
        "id": "IG676l5sAjXn",
        "outputId": "d2fcf2cb-078d-4516-9a61-d89051995afb",
        "colab": {
          "base_uri": "https://localhost:8080/"
        }
      },
      "execution_count": 131,
      "outputs": [
        {
          "output_type": "stream",
          "name": "stdout",
          "text": [
            "1 2 5\n",
            "4 5 6\n"
          ]
        }
      ]
    },
    {
      "cell_type": "code",
      "source": [
        "for a in [1,23,4]: \n",
        "  print(a)\n",
        "\n",
        "for a in range(3,5):\n",
        "  print(a)\n",
        "\n",
        "for a in range(3):\n",
        "  print(a)\n"
      ],
      "metadata": {
        "id": "HbT84JbRB4YX",
        "outputId": "414860a3-c703-42bd-fbb4-93e7130e8517",
        "colab": {
          "base_uri": "https://localhost:8080/"
        }
      },
      "execution_count": 132,
      "outputs": [
        {
          "output_type": "stream",
          "name": "stdout",
          "text": [
            "1\n",
            "23\n",
            "4\n",
            "3\n",
            "4\n",
            "0\n",
            "1\n",
            "2\n"
          ]
        }
      ]
    },
    {
      "cell_type": "code",
      "source": [
        "def add(a,b):\n",
        "  c = a+b\n",
        "  return c\n",
        "\n",
        "print(add(6,8))"
      ],
      "metadata": {
        "id": "QwzLkabwCJzq",
        "outputId": "f02e0dbd-4f71-4f42-afce-ecebc65062fb",
        "colab": {
          "base_uri": "https://localhost:8080/"
        }
      },
      "execution_count": 133,
      "outputs": [
        {
          "output_type": "stream",
          "name": "stdout",
          "text": [
            "14\n"
          ]
        }
      ]
    },
    {
      "cell_type": "markdown",
      "source": [
        "tupple dan list bisa dipassing ke function langsung gt"
      ],
      "metadata": {
        "id": "3jA3ezI2CdPL"
      }
    },
    {
      "cell_type": "code",
      "source": [
        "def add(a,b,c):\n",
        "  d = a + b + c\n",
        "  return d\n",
        "\n",
        "e = (1,2,3)\n",
        "f = [2,4,5]\n",
        "print(add(*e))\n",
        "print(add(*f))"
      ],
      "metadata": {
        "id": "JC2SmS5BCyGv",
        "outputId": "31e94499-e3ad-43d7-c973-633c34baaa80",
        "colab": {
          "base_uri": "https://localhost:8080/"
        }
      },
      "execution_count": 134,
      "outputs": [
        {
          "output_type": "stream",
          "name": "stdout",
          "text": [
            "6\n",
            "11\n"
          ]
        }
      ]
    },
    {
      "cell_type": "code",
      "source": [
        "a = 123\n",
        "\n",
        "def setLocal(n):\n",
        "  a = 456\n",
        "  print(a)\n",
        "\n",
        "setLocal(a)\n",
        "print(a)"
      ],
      "metadata": {
        "id": "7HmtREEdC77q",
        "outputId": "48813a5e-218e-44ca-d450-ee428d475ad1",
        "colab": {
          "base_uri": "https://localhost:8080/"
        }
      },
      "execution_count": 135,
      "outputs": [
        {
          "output_type": "stream",
          "name": "stdout",
          "text": [
            "456\n",
            "123\n"
          ]
        }
      ]
    },
    {
      "cell_type": "code",
      "source": [
        "class Calc:\n",
        "  def __init__(self, a):\n",
        "    self.a = a\n",
        "\n",
        "  def add(self, b):\n",
        "    print(self.a + b)\n",
        "  \n",
        "  def mul(self, b):\n",
        "    print(self.a * b)"
      ],
      "metadata": {
        "id": "uY71zE3TDWaV"
      },
      "execution_count": 136,
      "outputs": []
    },
    {
      "cell_type": "code",
      "source": [
        "calc = Calc(3)\n",
        "calc.add(4)\n",
        "calc.mul(9)"
      ],
      "metadata": {
        "id": "0MB9ssEmHOok",
        "outputId": "bb722c52-c0ca-4fac-f279-e2d3eb233950",
        "colab": {
          "base_uri": "https://localhost:8080/"
        }
      },
      "execution_count": 137,
      "outputs": [
        {
          "output_type": "stream",
          "name": "stdout",
          "text": [
            "7\n",
            "27\n"
          ]
        }
      ]
    },
    {
      "cell_type": "markdown",
      "source": [
        "* Cara inheritance"
      ],
      "metadata": {
        "id": "duodOqPWHVc3"
      }
    },
    {
      "cell_type": "code",
      "source": [
        "class CalcPlus(Calc):\n",
        "  def substract(self, b):\n",
        "    print(self.a - b)"
      ],
      "metadata": {
        "id": "Rt940STaIPf1"
      },
      "execution_count": 138,
      "outputs": []
    },
    {
      "cell_type": "code",
      "source": [
        "calcPlus = CalcPlus(4)\n",
        "calcPlus.substract(5)"
      ],
      "metadata": {
        "id": "uJ25C6XoIq9q",
        "outputId": "80bd4ab0-6fe0-41f4-a286-96b39a30ace7",
        "colab": {
          "base_uri": "https://localhost:8080/"
        }
      },
      "execution_count": 139,
      "outputs": [
        {
          "output_type": "stream",
          "name": "stdout",
          "text": [
            "-1\n"
          ]
        }
      ]
    },
    {
      "cell_type": "code",
      "source": [
        "!pwd"
      ],
      "metadata": {
        "id": "Ca4HrMpjIx5a",
        "outputId": "787ad316-3bee-4be2-fd50-24d8b3808883",
        "colab": {
          "base_uri": "https://localhost:8080/"
        }
      },
      "execution_count": 140,
      "outputs": [
        {
          "output_type": "stream",
          "name": "stdout",
          "text": [
            "/content\n"
          ]
        }
      ]
    },
    {
      "cell_type": "code",
      "source": [
        "!ls"
      ],
      "metadata": {
        "id": "-bP90KQ1I2HQ",
        "outputId": "6983f73d-bc41-4d89-aab4-ffe9a6cbb73d",
        "colab": {
          "base_uri": "https://localhost:8080/"
        }
      },
      "execution_count": 141,
      "outputs": [
        {
          "output_type": "stream",
          "name": "stdout",
          "text": [
            "sample_data\n"
          ]
        }
      ]
    },
    {
      "cell_type": "code",
      "source": [
        "!date"
      ],
      "metadata": {
        "id": "T8ujeYg0I3TU",
        "outputId": "3df8bd13-5926-439c-d1b6-a58f1d331107",
        "colab": {
          "base_uri": "https://localhost:8080/"
        }
      },
      "execution_count": 142,
      "outputs": [
        {
          "output_type": "stream",
          "name": "stdout",
          "text": [
            "Thu 19 Jan 2023 02:21:52 PM UTC\n"
          ]
        }
      ]
    },
    {
      "cell_type": "code",
      "source": [
        "!pip show request"
      ],
      "metadata": {
        "id": "_wQ97omOI4RS",
        "outputId": "0800af58-c5a6-4904-c54a-a57d93181fc4",
        "colab": {
          "base_uri": "https://localhost:8080/"
        }
      },
      "execution_count": 143,
      "outputs": [
        {
          "output_type": "stream",
          "name": "stdout",
          "text": [
            "\u001b[33mWARNING: Package(s) not found: request\u001b[0m\u001b[33m\n",
            "\u001b[0m"
          ]
        }
      ]
    },
    {
      "cell_type": "markdown",
      "source": [
        "\n",
        "\n",
        "---\n",
        "\n",
        "---\n",
        "\n",
        "\n",
        "**BASIC JANOME**"
      ],
      "metadata": {
        "id": "G8eQXi74JKJF"
      }
    },
    {
      "cell_type": "code",
      "source": [
        "!pip install janome"
      ],
      "metadata": {
        "colab": {
          "base_uri": "https://localhost:8080/"
        },
        "id": "q5LiefiHJOvo",
        "outputId": "62e5c631-4123-4bad-aabc-653ee7f6fe8e"
      },
      "execution_count": 144,
      "outputs": [
        {
          "output_type": "stream",
          "name": "stdout",
          "text": [
            "Looking in indexes: https://pypi.org/simple, https://us-python.pkg.dev/colab-wheels/public/simple/\n",
            "Requirement already satisfied: janome in /usr/local/lib/python3.8/dist-packages (0.4.2)\n"
          ]
        }
      ]
    },
    {
      "cell_type": "code",
      "source": [
        "from janome.tokenizer import Tokenizer\n",
        "\n",
        "t = Tokenizer()\n",
        "\n",
        "s = 'すもももももももものうち'\n",
        "\n",
        "print(type(t.tokenize(s)))\n",
        "# print(type(t.tokenize(s)[0]))"
      ],
      "metadata": {
        "colab": {
          "base_uri": "https://localhost:8080/"
        },
        "id": "DC-PT9EOJ09p",
        "outputId": "2ea8739e-829c-4436-8a85-9db08bc6535c"
      },
      "execution_count": 145,
      "outputs": [
        {
          "output_type": "stream",
          "name": "stdout",
          "text": [
            "<class 'generator'>\n"
          ]
        }
      ]
    },
    {
      "cell_type": "code",
      "source": [
        "t = Tokenizer()\n",
        "\n",
        "s = 'すもももももももものうち'\n",
        "\n",
        "for token in t.tokenize(s):\n",
        "    print(token)"
      ],
      "metadata": {
        "colab": {
          "base_uri": "https://localhost:8080/"
        },
        "id": "ftEALXtbK6CN",
        "outputId": "5d5fe793-128c-4c7e-90ab-fc5f2b23cd2b"
      },
      "execution_count": 146,
      "outputs": [
        {
          "output_type": "stream",
          "name": "stdout",
          "text": [
            "すもも\t名詞,一般,*,*,*,*,すもも,スモモ,スモモ\n",
            "も\t助詞,係助詞,*,*,*,*,も,モ,モ\n",
            "もも\t名詞,一般,*,*,*,*,もも,モモ,モモ\n",
            "も\t助詞,係助詞,*,*,*,*,も,モ,モ\n",
            "もも\t名詞,一般,*,*,*,*,もも,モモ,モモ\n",
            "の\t助詞,連体化,*,*,*,*,の,ノ,ノ\n",
            "うち\t名詞,非自立,副詞可能,*,*,*,うち,ウチ,ウチ\n"
          ]
        }
      ]
    },
    {
      "cell_type": "markdown",
      "source": [
        "|token.メソッド|機能|\n",
        "|----------------------|-------------------------------------------------------------------|\n",
        "|surface|文字列中で使われているそのままの形|\n",
        "|part_of_speech|品詞|\n",
        "|infl_type|活用型|\n",
        "|infl_form|活用形|\n",
        "|base_form|基本形，見出し語|\n",
        "|reading|読み|\n",
        "|phonetic|発音|"
      ],
      "metadata": {
        "id": "4ocVxfSrUcMM"
      }
    },
    {
      "cell_type": "code",
      "source": [
        "t = Tokenizer()\n",
        "\n",
        "token = t.tokenize('走れ')\n",
        "\n",
        "print(type(token))\n",
        "\n",
        "for t in token:\n",
        "  print(t)\n",
        "  print(t.surface) \n",
        "  print(t.part_of_speech.split(\",\"))\n",
        "  print(t.infl_type)\n",
        "  print(t.infl_form)\n",
        "  print(t.base_form)\n",
        "  print(t.reading)\n",
        "  print(t.phonetic)"
      ],
      "metadata": {
        "colab": {
          "base_uri": "https://localhost:8080/"
        },
        "id": "3WcZEZxMLajJ",
        "outputId": "a790d47d-2483-4558-84b5-dd7645093c83"
      },
      "execution_count": 147,
      "outputs": [
        {
          "output_type": "stream",
          "name": "stdout",
          "text": [
            "<class 'generator'>\n",
            "走れ\t動詞,自立,*,*,五段・ラ行,命令ｅ,走る,ハシレ,ハシレ\n",
            "走れ\n",
            "['動詞', '自立', '*', '*']\n",
            "五段・ラ行\n",
            "命令ｅ\n",
            "走る\n",
            "ハシレ\n",
            "ハシレ\n"
          ]
        }
      ]
    },
    {
      "cell_type": "code",
      "source": [
        "t = Tokenizer()\n",
        "\n",
        "s = '走れと言われたので走ると言った'\n",
        "\n",
        "for token in t.tokenize(s):\n",
        "  print(token)\n"
      ],
      "metadata": {
        "colab": {
          "base_uri": "https://localhost:8080/"
        },
        "id": "bFKqRyw2M7SU",
        "outputId": "54a86ffa-2137-44a6-c7a6-1c15beb38dce"
      },
      "execution_count": 148,
      "outputs": [
        {
          "output_type": "stream",
          "name": "stdout",
          "text": [
            "走れ\t動詞,自立,*,*,五段・ラ行,命令ｅ,走る,ハシレ,ハシレ\n",
            "と\t助詞,格助詞,引用,*,*,*,と,ト,ト\n",
            "言わ\t動詞,自立,*,*,五段・ワ行促音便,未然形,言う,イワ,イワ\n",
            "れ\t動詞,接尾,*,*,一段,連用形,れる,レ,レ\n",
            "た\t助動詞,*,*,*,特殊・タ,基本形,た,タ,タ\n",
            "ので\t助詞,接続助詞,*,*,*,*,ので,ノデ,ノデ\n",
            "走る\t動詞,自立,*,*,五段・ラ行,基本形,走る,ハシル,ハシル\n",
            "と\t助詞,格助詞,引用,*,*,*,と,ト,ト\n",
            "言っ\t動詞,自立,*,*,五段・ワ行促音便,連用タ接続,言う,イッ,イッ\n",
            "た\t助動詞,*,*,*,特殊・タ,基本形,た,タ,タ\n"
          ]
        }
      ]
    },
    {
      "cell_type": "code",
      "source": [
        "# kalau wakati true itu dia jadi return list of string \n",
        "# bukan list of token object\n",
        "\n",
        "a = []\n",
        "for token in t.tokenize(s, wakati=True):\n",
        "  a.append(token)\n",
        "\n",
        "print(a)"
      ],
      "metadata": {
        "colab": {
          "base_uri": "https://localhost:8080/"
        },
        "id": "SkYdk-jhUK8G",
        "outputId": "a5ce9455-f5eb-4df4-d1cb-a7ebb3baa0a1"
      },
      "execution_count": 149,
      "outputs": [
        {
          "output_type": "stream",
          "name": "stdout",
          "text": [
            "['走れ', 'と', '言わ', 'れ', 'た', 'ので', '走る', 'と', '言っ', 'た']\n"
          ]
        }
      ]
    },
    {
      "cell_type": "code",
      "source": [
        "print([token.surface for token in t.tokenize(s)])"
      ],
      "metadata": {
        "colab": {
          "base_uri": "https://localhost:8080/"
        },
        "id": "IIefZ1E3VBzN",
        "outputId": "d3f91d01-9b6a-4590-b095-3f38993a742e"
      },
      "execution_count": 150,
      "outputs": [
        {
          "output_type": "stream",
          "name": "stdout",
          "text": [
            "['走れ', 'と', '言わ', 'れ', 'た', 'ので', '走る', 'と', '言っ', 'た']\n"
          ]
        }
      ]
    },
    {
      "cell_type": "code",
      "source": [
        "print([token.base_form for token in t.tokenize(s)])\n",
        "print([token.part_of_speech.split(',')[0] for token in t.tokenize(s)])"
      ],
      "metadata": {
        "colab": {
          "base_uri": "https://localhost:8080/"
        },
        "id": "lVuDDAlSVP8u",
        "outputId": "2d0d93cd-5413-44c3-bcd7-cf1ad3065393"
      },
      "execution_count": 151,
      "outputs": [
        {
          "output_type": "stream",
          "name": "stdout",
          "text": [
            "['走る', 'と', '言う', 'れる', 'た', 'ので', '走る', 'と', '言う', 'た']\n",
            "['動詞', '助詞', '動詞', '動詞', '助動詞', '助詞', '動詞', '助詞', '動詞', '助動詞']\n"
          ]
        }
      ]
    },
    {
      "cell_type": "code",
      "source": [
        "# perhatikan gimana penggunaan for dan if sama statrswith() split()\n",
        "print([token.surface for token in t.tokenize(s) if token.part_of_speech.startswith('動詞')])\n",
        "print([token.surface for token in t.tokenize(s) if token.part_of_speech.startswith('動詞,自立')])\n",
        "print([token.surface for token in t.tokenize(s) if token.part_of_speech.split(\",\")[0] in [\"動詞\", '助動詞']])"
      ],
      "metadata": {
        "colab": {
          "base_uri": "https://localhost:8080/"
        },
        "id": "ZttJ70sIWhq7",
        "outputId": "ae7e6866-e0a5-43c6-babd-6f97983652d8"
      },
      "execution_count": 152,
      "outputs": [
        {
          "output_type": "stream",
          "name": "stdout",
          "text": [
            "['走れ', '言わ', 'れ', '走る', '言っ']\n",
            "['走れ', '言わ', '走る', '言っ']\n",
            "['走れ', '言わ', 'れ', 'た', '走る', '言っ', 'た']\n"
          ]
        }
      ]
    },
    {
      "cell_type": "markdown",
      "source": [
        "****\n",
        "**Kadai**"
      ],
      "metadata": {
        "id": "qBA0nhfEX3C-"
      }
    },
    {
      "cell_type": "markdown",
      "source": [
        "##課題1-1：\n",
        "　文l = 'メロスは寒い冬に稚内から東京まで自転車で走った'を定義し，\n",
        "(l 小文字エル)\n",
        "1. 文l において，品詞が名詞である単語を表示してみる．\n",
        "2. 文l において，品詞が助詞，格助詞である単語を表示してみる．\n",
        "3. 文l において，品詞が名詞または形容詞である単語を表示してみる．"
      ],
      "metadata": {
        "id": "md01ysigX6Ze"
      }
    },
    {
      "cell_type": "code",
      "source": [
        "l = 'メロスは寒い冬に稚内から東京まで自転車で走った'\n",
        "\n",
        "for token in t.tokenize(l):\n",
        "  print(token)\n",
        "\n",
        "print([token.surface for token in t.tokenize(l) if token.part_of_speech.startswith(\"名詞\")])\n",
        "print([token.surface for token in t.tokenize(l) if token.part_of_speech.startswith(\"助詞,格助詞\")])\n",
        "print([token.surface for token in t.tokenize(l) if token.part_of_speech.split(',')[0] in [\"名詞\", \"形容詞\"]])"
      ],
      "metadata": {
        "colab": {
          "base_uri": "https://localhost:8080/"
        },
        "id": "pIYXhOvkYEkb",
        "outputId": "109d6917-efad-4d4c-bb05-e7850b0c7ae2"
      },
      "execution_count": 153,
      "outputs": [
        {
          "output_type": "stream",
          "name": "stdout",
          "text": [
            "メロス\t名詞,一般,*,*,*,*,メロス,*,*\n",
            "は\t助詞,係助詞,*,*,*,*,は,ハ,ワ\n",
            "寒い\t形容詞,自立,*,*,形容詞・アウオ段,基本形,寒い,サムイ,サムイ\n",
            "冬\t名詞,一般,*,*,*,*,冬,フユ,フユ\n",
            "に\t助詞,格助詞,一般,*,*,*,に,ニ,ニ\n",
            "稚内\t名詞,固有名詞,組織,*,*,*,稚内,ワッカナイ,ワッカナイ\n",
            "から\t助詞,格助詞,一般,*,*,*,から,カラ,カラ\n",
            "東京\t名詞,固有名詞,地域,一般,*,*,東京,トウキョウ,トーキョー\n",
            "まで\t助詞,副助詞,*,*,*,*,まで,マデ,マデ\n",
            "自転車\t名詞,一般,*,*,*,*,自転車,ジテンシャ,ジテンシャ\n",
            "で\t助詞,格助詞,一般,*,*,*,で,デ,デ\n",
            "走っ\t動詞,自立,*,*,五段・ラ行,連用タ接続,走る,ハシッ,ハシッ\n",
            "た\t助動詞,*,*,*,特殊・タ,基本形,た,タ,タ\n",
            "['メロス', '冬', '稚内', '東京', '自転車']\n",
            "['に', 'から', 'で']\n",
            "['メロス', '寒い', '冬', '稚内', '東京', '自転車']\n"
          ]
        }
      ]
    },
    {
      "cell_type": "markdown",
      "source": [
        "****\n",
        "#Count\n",
        "Pakai module collections untuk menghitung"
      ],
      "metadata": {
        "id": "vhT4s3VtaHog"
      }
    },
    {
      "cell_type": "code",
      "source": [
        "from janome.tokenizer import Tokenizer\n",
        "import collections\n",
        "\n",
        "t = Tokenizer()\n",
        "s= '赤巻紙青巻紙黄巻紙'\n",
        "\n",
        "for token in t.tokenize(s):\n",
        "  print(token)\n",
        "\n",
        "c = collections.Counter(t.tokenize(s, wakati = True))\n",
        "# yang dipassing ke counter itu list\n",
        "print(type(c))\n",
        "print(c)"
      ],
      "metadata": {
        "id": "6aFimFs6aJul",
        "outputId": "2fe96087-afb6-40c4-98e9-f36bc8b954a5",
        "colab": {
          "base_uri": "https://localhost:8080/"
        }
      },
      "execution_count": 159,
      "outputs": [
        {
          "output_type": "stream",
          "name": "stdout",
          "text": [
            "赤\t名詞,一般,*,*,*,*,赤,アカ,アカ\n",
            "巻紙\t名詞,一般,*,*,*,*,巻紙,マキガミ,マキガミ\n",
            "青\t名詞,一般,*,*,*,*,青,アオ,アオ\n",
            "巻紙\t名詞,一般,*,*,*,*,巻紙,マキガミ,マキガミ\n",
            "黄\t名詞,一般,*,*,*,*,黄,キ,キ\n",
            "巻紙\t名詞,一般,*,*,*,*,巻紙,マキガミ,マキガミ\n",
            "<class 'collections.Counter'>\n",
            "Counter({'巻紙': 3, '赤': 1, '青': 1, '黄': 1})\n"
          ]
        }
      ]
    },
    {
      "cell_type": "code",
      "source": [
        "print(c['赤'])\n",
        "# kalau misal gk ada akan return 0"
      ],
      "metadata": {
        "id": "o5hWTaEXbpJq",
        "outputId": "e6c7f9ff-d8d0-44fa-ca70-0be3a929b837",
        "colab": {
          "base_uri": "https://localhost:8080/"
        }
      },
      "execution_count": 165,
      "outputs": [
        {
          "output_type": "stream",
          "name": "stdout",
          "text": [
            "1\n"
          ]
        }
      ]
    },
    {
      "cell_type": "code",
      "source": [
        "mc = c.most_common()\n",
        "print(mc)\n",
        "# dia jadi list of tupple ('kata', counter)"
      ],
      "metadata": {
        "id": "6CjubOTUbvXy",
        "outputId": "17952010-9a5d-454c-bba0-79af8e6e222d",
        "colab": {
          "base_uri": "https://localhost:8080/"
        }
      },
      "execution_count": 167,
      "outputs": [
        {
          "output_type": "stream",
          "name": "stdout",
          "text": [
            "[('巻紙', 3), ('赤', 1), ('青', 1), ('黄', 1)]\n"
          ]
        }
      ]
    },
    {
      "cell_type": "code",
      "source": [
        "from janome.tokenizer import Tokenizer\n",
        "from janome.analyzer import Analyzer\n",
        "from janome.charfilter import *\n",
        "from janome.tokenfilter import *\n",
        "\n",
        "s= '花子は赤巻紙青巻紙黄巻紙と言った'\n",
        "\n",
        "for token in t.tokenize(s):\n",
        "  print(token)\n",
        "\n"
      ],
      "metadata": {
        "id": "96Txy5utbzTr",
        "outputId": "81050440-89b4-4fa8-f211-d815fb08474c",
        "colab": {
          "base_uri": "https://localhost:8080/"
        }
      },
      "execution_count": 172,
      "outputs": [
        {
          "output_type": "stream",
          "name": "stdout",
          "text": [
            "花子\t名詞,固有名詞,人名,名,*,*,花子,ハナコ,ハナコ\n",
            "は\t助詞,係助詞,*,*,*,*,は,ハ,ワ\n",
            "赤\t名詞,一般,*,*,*,*,赤,アカ,アカ\n",
            "巻紙\t名詞,一般,*,*,*,*,巻紙,マキガミ,マキガミ\n",
            "青\t名詞,一般,*,*,*,*,青,アオ,アオ\n",
            "巻紙\t名詞,一般,*,*,*,*,巻紙,マキガミ,マキガミ\n",
            "黄\t名詞,一般,*,*,*,*,黄,キ,キ\n",
            "巻紙\t名詞,一般,*,*,*,*,巻紙,マキガミ,マキガミ\n",
            "と\t助詞,格助詞,引用,*,*,*,と,ト,ト\n",
            "言っ\t動詞,自立,*,*,五段・ワ行促音便,連用タ接続,言う,イッ,イッ\n",
            "た\t助動詞,*,*,*,特殊・タ,基本形,た,タ,タ\n"
          ]
        }
      ]
    },
    {
      "cell_type": "code",
      "source": [
        "a = Analyzer(token_filters=[POSKeepFilter(['名詞']), TokenCountFilter()])\n",
        "\n",
        "g_count = a.analyze(s)\n",
        "print(type(g_count))\n",
        "\n",
        "i = 0\n",
        "\n",
        "for i in g_count:\n",
        "  print(i)"
      ],
      "metadata": {
        "id": "VI97qNEvdXt6",
        "outputId": "f6a96672-83b6-4d9c-8799-82e998491370",
        "colab": {
          "base_uri": "https://localhost:8080/"
        }
      },
      "execution_count": 181,
      "outputs": [
        {
          "output_type": "stream",
          "name": "stdout",
          "text": [
            "<class 'generator'>\n",
            "('花子', 1)\n",
            "('赤', 1)\n",
            "('巻紙', 3)\n",
            "('青', 1)\n",
            "('黄', 1)\n"
          ]
        }
      ]
    },
    {
      "cell_type": "code",
      "source": [
        "s = '<div>PythonとＰＹＴＨＯＮとパイソンとﾊﾟｲｿﾝ</div>'\n",
        "\n",
        "for token in t.tokenize(s):\n",
        "  print(token)\n",
        "\n",
        "#CharFilterおよびTokenFilterをリストで指定して\n",
        "char_filters = [UnicodeNormalizeCharFilter(), \n",
        "                RegexReplaceCharFilter('<.*?>', '')]\n",
        "\n",
        "token_filters = [POSKeepFilter(['名詞']),\n",
        "                 LowerCaseFilter(),\n",
        "                 ExtractAttributeFilter('surface')]\n",
        "# filter ini harus dalam list\n",
        "\n",
        "#Analyzerオブジェクトを生成\n",
        "a = Analyzer(char_filters=char_filters, token_filters=token_filters)\n",
        "\n",
        "for token in a.analyze(s):\n",
        "    print(token)"
      ],
      "metadata": {
        "id": "JcHclJLmenJH",
        "outputId": "5fe03272-ea89-4345-c066-1887c7a1cb00",
        "colab": {
          "base_uri": "https://localhost:8080/"
        }
      },
      "execution_count": 186,
      "outputs": [
        {
          "output_type": "stream",
          "name": "stdout",
          "text": [
            "<\t名詞,サ変接続,*,*,*,*,<,*,*\n",
            "div\t名詞,一般,*,*,*,*,div,*,*\n",
            ">\t名詞,サ変接続,*,*,*,*,>,*,*\n",
            "Python\t名詞,一般,*,*,*,*,Python,*,*\n",
            "と\t助詞,並立助詞,*,*,*,*,と,ト,ト\n",
            "ＰＹＴＨＯＮ\t名詞,固有名詞,組織,*,*,*,ＰＹＴＨＯＮ,*,*\n",
            "と\t助詞,並立助詞,*,*,*,*,と,ト,ト\n",
            "パイソン\t名詞,一般,*,*,*,*,パイソン,*,*\n",
            "と\t助詞,並立助詞,*,*,*,*,と,ト,ト\n",
            "ﾊﾟｲｿﾝ\t名詞,一般,*,*,*,*,ﾊﾟｲｿﾝ,*,*\n",
            "</\t名詞,サ変接続,*,*,*,*,</,*,*\n",
            "div\t名詞,一般,*,*,*,*,div,*,*\n",
            ">\t名詞,サ変接続,*,*,*,*,>,*,*\n",
            "python\n",
            "python\n",
            "パイソン\n",
            "パイソン\n"
          ]
        }
      ]
    },
    {
      "cell_type": "code",
      "source": [
        "s = '釧路工業高等専門学校の創造工学科の情報工学分野'\n",
        "for token in t.tokenize(s):\n",
        "  print(token)\n",
        "\n",
        "print(\"==================================\\n\")\n",
        "\n",
        "a = Analyzer(token_filters=[CompoundNounFilter()])\n",
        "# dibikin jadi kata benda majemuk gitu (noun sama noun digabung)\n",
        "\n",
        "for token in a.analyze(s):\n",
        "  print(token)"
      ],
      "metadata": {
        "id": "XivxKo9AftbY",
        "outputId": "6f661cba-f777-42e9-ffbc-17f7508d165b",
        "colab": {
          "base_uri": "https://localhost:8080/"
        }
      },
      "execution_count": 191,
      "outputs": [
        {
          "output_type": "stream",
          "name": "stdout",
          "text": [
            "釧路\t名詞,固有名詞,地域,一般,*,*,釧路,クシロ,クシロ\n",
            "工業\t名詞,一般,*,*,*,*,工業,コウギョウ,コーギョー\n",
            "高等\t名詞,形容動詞語幹,*,*,*,*,高等,コウトウ,コートー\n",
            "専門\t名詞,一般,*,*,*,*,専門,センモン,センモン\n",
            "学校\t名詞,一般,*,*,*,*,学校,ガッコウ,ガッコー\n",
            "の\t助詞,連体化,*,*,*,*,の,ノ,ノ\n",
            "創造\t名詞,サ変接続,*,*,*,*,創造,ソウゾウ,ソーゾー\n",
            "工学科\t名詞,一般,*,*,*,*,工学科,コウガッカ,コーガッカ\n",
            "の\t助詞,連体化,*,*,*,*,の,ノ,ノ\n",
            "情報\t名詞,一般,*,*,*,*,情報,ジョウホウ,ジョーホー\n",
            "工学\t名詞,一般,*,*,*,*,工学,コウガク,コーガク\n",
            "分野\t名詞,一般,*,*,*,*,分野,ブンヤ,ブンヤ\n",
            "==================================\n",
            "\n",
            "釧路工業高等専門学校\t名詞,複合,*,*,*,*,釧路工業高等専門学校,クシロコウギョウコウトウセンモンガッコウ,クシロコーギョーコートーセンモンガッコー\n",
            "の\t助詞,連体化,*,*,*,*,の,ノ,ノ\n",
            "創造工学科\t名詞,複合,*,*,*,*,創造工学科,ソウゾウコウガッカ,ソーゾーコーガッカ\n",
            "の\t助詞,連体化,*,*,*,*,の,ノ,ノ\n",
            "情報工学分野\t名詞,複合,*,*,*,*,情報工学分野,ジョウホウコウガクブンヤ,ジョーホーコーガクブンヤ\n"
          ]
        }
      ]
    },
    {
      "cell_type": "code",
      "source": [
        "s = '赤巻紙青巻紙黄巻紙'\n",
        "a = Analyzer(token_filters=[POSKeepFilter(\"名詞\"), TokenCountFilter()])\n",
        "\n",
        "g_count = a.analyze(s)\n",
        "\n",
        "for i in g_count:\n",
        "  print(i)"
      ],
      "metadata": {
        "id": "9XFtqr9xgQpn",
        "outputId": "b7671b37-b5c4-4ad8-fe04-6ad819a3bee7",
        "colab": {
          "base_uri": "https://localhost:8080/"
        }
      },
      "execution_count": 193,
      "outputs": [
        {
          "output_type": "stream",
          "name": "stdout",
          "text": [
            "('赤', 1)\n",
            "('巻紙', 3)\n",
            "('青', 1)\n",
            "('黄', 1)\n"
          ]
        }
      ]
    },
    {
      "cell_type": "code",
      "source": [
        "l_count = list(a.analyze(s))\n",
        "print(type(l_count))\n",
        "\n",
        "print(\"===========\\n\")\n",
        "\n",
        "print(l_count)"
      ],
      "metadata": {
        "id": "XbRpZHLxgmo8",
        "outputId": "d1082d16-3a57-439d-c059-930da6d4c2b8",
        "colab": {
          "base_uri": "https://localhost:8080/"
        }
      },
      "execution_count": 197,
      "outputs": [
        {
          "output_type": "stream",
          "name": "stdout",
          "text": [
            "<class 'list'>\n",
            "===========\n",
            "\n",
            "[('赤', 1), ('巻紙', 3), ('青', 1), ('黄', 1)]\n"
          ]
        }
      ]
    },
    {
      "cell_type": "code",
      "source": [
        "d_count = dict(a.analyze(s))\n",
        "print(type(d_count))\n",
        "\n",
        "print(\"============\\n\")\n",
        "\n",
        "print(d_count)"
      ],
      "metadata": {
        "id": "l3DU8pOygzRT",
        "outputId": "3a0219a4-ad23-45fd-fe7f-73c0b730819e",
        "colab": {
          "base_uri": "https://localhost:8080/"
        }
      },
      "execution_count": 200,
      "outputs": [
        {
          "output_type": "stream",
          "name": "stdout",
          "text": [
            "<class 'dict'>\n",
            "============\n",
            "\n",
            "{'赤': 1, '巻紙': 3, '青': 1, '黄': 1}\n"
          ]
        }
      ]
    },
    {
      "cell_type": "code",
      "source": [
        "print(d_count[\"赤\"])\n",
        "print(d_count[\"巻紙\"])\n",
        "# print(d_count[\"巻髪\"])\n",
        "# ini error karena dalam dict tidak ada"
      ],
      "metadata": {
        "id": "xKnzc-OGhB8v",
        "outputId": "8dca5286-1224-43a1-fca7-4be7e9f091b1",
        "colab": {
          "base_uri": "https://localhost:8080/"
        }
      },
      "execution_count": 205,
      "outputs": [
        {
          "output_type": "stream",
          "name": "stdout",
          "text": [
            "1\n",
            "3\n"
          ]
        }
      ]
    },
    {
      "cell_type": "code",
      "source": [
        "print(d_count.get(\"巻髪\", 0))"
      ],
      "metadata": {
        "id": "zrLfej6YhJXe",
        "outputId": "d16389e5-c9af-46d2-d15c-e6c92130271d",
        "colab": {
          "base_uri": "https://localhost:8080/"
        }
      },
      "execution_count": 210,
      "outputs": [
        {
          "output_type": "stream",
          "name": "stdout",
          "text": [
            "0\n"
          ]
        }
      ]
    },
    {
      "cell_type": "code",
      "source": [
        "a = Analyzer(token_filters=[TokenCountFilter()])\n",
        "\n",
        "s = '走れと言われたので走ると言った'\n",
        "\n",
        "print('文中で使っているままの単語を表示')\n",
        "print(list(a.analyze(s)))\n",
        "\n",
        "a = Analyzer(token_filters=[TokenCountFilter(att='base_form')])\n",
        "\n",
        "print('単語の原型を表示')\n",
        "print(list(a.analyze(s)))"
      ],
      "metadata": {
        "id": "nKdNSJQOhpH5",
        "outputId": "e24cee56-1d69-47c8-916d-c4d2c2e36477",
        "colab": {
          "base_uri": "https://localhost:8080/"
        }
      },
      "execution_count": 214,
      "outputs": [
        {
          "output_type": "stream",
          "name": "stdout",
          "text": [
            "文中で使っているままの単語を表示\n",
            "[('走れ', 1), ('と', 2), ('言わ', 1), ('れ', 1), ('た', 2), ('ので', 1), ('走る', 1), ('言っ', 1)]\n",
            "単語の原型を表示\n",
            "[('走る', 2), ('と', 2), ('言う', 2), ('れる', 1), ('た', 2), ('ので', 1)]\n"
          ]
        }
      ]
    },
    {
      "cell_type": "code",
      "source": [
        "a = Analyzer(token_filters=[TokenCountFilter(att = 'part_of_speech')])\n",
        "print(list(a.analyze(s)))"
      ],
      "metadata": {
        "id": "ctrtg07-ic-x",
        "outputId": "0df2b262-1752-4f69-b842-c766201fcbeb",
        "colab": {
          "base_uri": "https://localhost:8080/"
        }
      },
      "execution_count": 216,
      "outputs": [
        {
          "output_type": "stream",
          "name": "stdout",
          "text": [
            "[('動詞,自立,*,*', 4), ('助詞,格助詞,引用,*', 2), ('動詞,接尾,*,*', 1), ('助動詞,*,*,*', 2), ('助詞,接続助詞,*,*', 1)]\n"
          ]
        }
      ]
    },
    {
      "cell_type": "code",
      "source": [
        "s = '太郎は花子に花を贈った'\n",
        "\n",
        "a = Analyzer(token_filters=[POSKeepFilter(\"助動詞\")])\n",
        "# dalam filter ini harus list\n",
        "\n",
        "print('正しく抽出されない場合(助動詞に含まれる助詞，動詞もとれてしまう)')\n",
        "for token in a.analyze(s):\n",
        "  print(token)\n",
        "\n",
        "a = Analyzer(token_filters=[POSKeepFilter(['助動詞'])])#リストで指定すると改善される\n",
        "\n",
        "print('=========\\n改善した結果')\n",
        "for token in a.analyze(s):\n",
        "    print(token)"
      ],
      "metadata": {
        "id": "2_mtI9Taiu0m",
        "outputId": "1a4876b7-9efb-40b2-ba14-653b1ec53c06",
        "colab": {
          "base_uri": "https://localhost:8080/"
        }
      },
      "execution_count": 219,
      "outputs": [
        {
          "output_type": "stream",
          "name": "stdout",
          "text": [
            "正しく抽出されない場合(助動詞に含まれる助詞，動詞もとれてしまう)\n",
            "は\t助詞,係助詞,*,*,*,*,は,ハ,ワ\n",
            "に\t助詞,格助詞,一般,*,*,*,に,ニ,ニ\n",
            "を\t助詞,格助詞,一般,*,*,*,を,ヲ,ヲ\n",
            "贈っ\t動詞,自立,*,*,五段・ラ行,連用タ接続,贈る,オクッ,オクッ\n",
            "た\t助動詞,*,*,*,特殊・タ,基本形,た,タ,タ\n",
            "=========\n",
            "改善した結果\n",
            "た\t助動詞,*,*,*,特殊・タ,基本形,た,タ,タ\n"
          ]
        }
      ]
    },
    {
      "cell_type": "code",
      "source": [
        "s = '太郎は花子に花を贈った'\n",
        "\n",
        "a = Analyzer(token_filters=[POSStopFilter(['助詞'])])\n",
        "\n",
        "for token in a.analyze(s):\n",
        "    print(token)"
      ],
      "metadata": {
        "id": "USo8Y-gIjXNQ",
        "outputId": "bcc94eb7-b6e5-4283-d829-e480480564ea",
        "colab": {
          "base_uri": "https://localhost:8080/"
        }
      },
      "execution_count": 220,
      "outputs": [
        {
          "output_type": "stream",
          "name": "stdout",
          "text": [
            "太郎\t名詞,固有名詞,人名,名,*,*,太郎,タロウ,タロー\n",
            "花子\t名詞,固有名詞,人名,名,*,*,花子,ハナコ,ハナコ\n",
            "花\t名詞,一般,*,*,*,*,花,ハナ,ハナ\n",
            "贈っ\t動詞,自立,*,*,五段・ラ行,連用タ接続,贈る,オクッ,オクッ\n",
            "た\t助動詞,*,*,*,特殊・タ,基本形,た,タ,タ\n"
          ]
        }
      ]
    },
    {
      "cell_type": "code",
      "source": [
        "from janome.tokenizer import Tokenizer\n",
        "\n",
        "tokenizer = Tokenizer()\n",
        "\n",
        "tokens = tokenizer.tokenize(\"これでみんなで原始人。肉を食べよう！\")\n",
        "\n",
        "for token in tokenizer.tokenize(\"これでみんなで原始人。肉を食べよう！\"):\n",
        "  print(token)\n",
        "\n",
        "print(\"================\\n\")\n",
        "def token2gensigo(input_token):\n",
        "    if input_token.part_of_speech.split(',')[0] == \"助詞\":\n",
        "        # 助詞 disini bisa diganti\n",
        "        return \"\"\n",
        "    else:\n",
        "        return input_token.reading\n",
        "\n",
        "\n",
        "result_str = \"\"\n",
        "#全てのtokenに，上でdef（定義）したtoken2gensigo関数を実行\n",
        "for token in tokens:\n",
        "    result_str += token2gensigo(token) + \" \"\n",
        "    \n",
        "print(result_str)"
      ],
      "metadata": {
        "id": "aOQX-04tj37z",
        "outputId": "0a725eb3-343a-49e7-881b-0e551963d5a4",
        "colab": {
          "base_uri": "https://localhost:8080/"
        }
      },
      "execution_count": 233,
      "outputs": [
        {
          "output_type": "stream",
          "name": "stdout",
          "text": [
            "これ\t名詞,代名詞,一般,*,*,*,これ,コレ,コレ\n",
            "で\t助詞,格助詞,一般,*,*,*,で,デ,デ\n",
            "みんな\t名詞,代名詞,一般,*,*,*,みんな,ミンナ,ミンナ\n",
            "で\t助詞,格助詞,一般,*,*,*,で,デ,デ\n",
            "原始\t名詞,一般,*,*,*,*,原始,ゲンシ,ゲンシ\n",
            "人\t名詞,接尾,一般,*,*,*,人,ジン,ジン\n",
            "。\t記号,句点,*,*,*,*,。,。,。\n",
            "肉\t名詞,一般,*,*,*,*,肉,ニク,ニク\n",
            "を\t助詞,格助詞,一般,*,*,*,を,ヲ,ヲ\n",
            "食べよ\t動詞,自立,*,*,一段,未然ウ接続,食べる,タベヨ,タベヨ\n",
            "う\t助動詞,*,*,*,不変化型,基本形,う,ウ,ウ\n",
            "！\t記号,一般,*,*,*,*,！,！,！\n",
            "================\n",
            "\n",
            "コレ  ミンナ  ゲンシ ジン 。 ニク  タベヨ ウ ！ \n"
          ]
        }
      ]
    },
    {
      "cell_type": "markdown",
      "source": [
        "****\n",
        "**KADAI 2**"
      ],
      "metadata": {
        "id": "jwywAx2dp00v"
      }
    },
    {
      "cell_type": "code",
      "source": [
        "from janome.tokenizer import Tokenizer\n",
        "\n",
        "t = Tokenizer()\n",
        "\n",
        "s = [\"お茶うけに干菓子ひがしをすすめるという思いつきは男性のものではなかった\", \n",
        "     \"現在の島町にあたる地域の戸数などに関する記録は以下の通りである\",\n",
        "     \"生徒を一人入学させれば歩合制で金がもらえるというシステムである\"]\n",
        "     \n",
        "# for token in t.tokenize(s[2]):\n",
        "#   print(token)\n",
        "\n",
        "def token2genshi(input_token, hinshi):\n",
        "  if input_token.part_of_speech.split(\",\")[0] == hinshi:\n",
        "    return \"\"\n",
        "  else:\n",
        "    return input_token.reading\n",
        "\n",
        "result_str = \"\"\n",
        "\n",
        "for sentence in s:\n",
        "  for token in t.tokenize(sentence):\n",
        "    result_str += token2genshi(token, \"助詞\") + \" \"\n",
        "  print(result_str) \n",
        "  result_str = \"\"\n",
        "  "
      ],
      "metadata": {
        "id": "WT5ECTKNmerd",
        "outputId": "0067745b-ea5d-4100-cbb2-cf4290966681",
        "colab": {
          "base_uri": "https://localhost:8080/"
        }
      },
      "execution_count": 253,
      "outputs": [
        {
          "output_type": "stream",
          "name": "stdout",
          "text": [
            "オチャ ウケ  ヒガシ ヒガシ  ススメル  オモイツキ  ダンセイ  モノ デ  ナカッ タ \n",
            "ゲンザイ  シママチ  チイキ  コスウ   キロク  イカ  トオリ デ アル \n",
            "セイト  イチ ニン ニュウガク サ セレ  ブアイ セイ  キン  モラエル  システム デ アル \n"
          ]
        }
      ]
    },
    {
      "cell_type": "markdown",
      "source": [
        "****"
      ],
      "metadata": {
        "id": "skfAPKoLp4wg"
      }
    },
    {
      "cell_type": "code",
      "source": [],
      "metadata": {
        "id": "0nXPQXvUp5_j"
      },
      "execution_count": null,
      "outputs": []
    }
  ]
}