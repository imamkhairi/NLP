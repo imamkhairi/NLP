{
  "nbformat": 4,
  "nbformat_minor": 0,
  "metadata": {
    "colab": {
      "provenance": [],
      "authorship_tag": "ABX9TyP3/6nohNfsgjgFlmCDX8Bz",
      "include_colab_link": true
    },
    "kernelspec": {
      "name": "python3",
      "display_name": "Python 3"
    },
    "language_info": {
      "name": "python"
    }
  },
  "cells": [
    {
      "cell_type": "markdown",
      "metadata": {
        "id": "view-in-github",
        "colab_type": "text"
      },
      "source": [
        "<a href=\"https://colab.research.google.com/github/imamkhairi/NLP/blob/main/Test.ipynb\" target=\"_parent\"><img src=\"https://colab.research.google.com/assets/colab-badge.svg\" alt=\"Open In Colab\"/></a>"
      ]
    },
    {
      "cell_type": "markdown",
      "source": [
        "**Basic Python**"
      ],
      "metadata": {
        "id": "8Xi8kLGEESSt"
      }
    },
    {
      "cell_type": "code",
      "source": [
        "a = 123\n",
        "b = 123.456\n",
        "c = \"Hello\"\n",
        "d = True\n",
        "e = [1,2,3,4]"
      ],
      "metadata": {
        "id": "-kOWntScEYXd"
      },
      "execution_count": 1,
      "outputs": []
    },
    {
      "cell_type": "code",
      "source": [
        "for i in range(2,4):\n",
        "  print(i)"
      ],
      "metadata": {
        "colab": {
          "base_uri": "https://localhost:8080/"
        },
        "id": "wlsLGWxOEc2O",
        "outputId": "dc68b60c-f27c-44c6-d3f2-e8aa001c09e3"
      },
      "execution_count": 2,
      "outputs": [
        {
          "output_type": "stream",
          "name": "stdout",
          "text": [
            "2\n",
            "3\n"
          ]
        }
      ]
    },
    {
      "cell_type": "code",
      "source": [
        "a = 5\n",
        "b = 3\n",
        "print(a/b)\n",
        "print(a//b)"
      ],
      "metadata": {
        "id": "X6TAwHJP6a4k",
        "outputId": "cb71cf5b-284c-48f2-80d2-844718dabd0b",
        "colab": {
          "base_uri": "https://localhost:8080/"
        }
      },
      "execution_count": 3,
      "outputs": [
        {
          "output_type": "stream",
          "name": "stdout",
          "text": [
            "1.6666666666666667\n",
            "1\n"
          ]
        }
      ]
    },
    {
      "cell_type": "code",
      "source": [
        "a = [1, 2, 3, 4, 5]\n",
        "\n",
        "a.append(69)\n",
        "print(a)\n",
        "\n",
        "a[2] = 5\n",
        "print(a)"
      ],
      "metadata": {
        "id": "-FRmyFQu6c5O",
        "outputId": "0a39107a-d468-472c-f08a-b6c420a4b62f",
        "colab": {
          "base_uri": "https://localhost:8080/"
        }
      },
      "execution_count": 4,
      "outputs": [
        {
          "output_type": "stream",
          "name": "stdout",
          "text": [
            "[1, 2, 3, 4, 5, 69]\n",
            "[1, 2, 5, 4, 5, 69]\n"
          ]
        }
      ]
    },
    {
      "cell_type": "code",
      "source": [
        "a = (1,2,4)\n",
        "print(a[2])"
      ],
      "metadata": {
        "id": "NSjr4fZ9_vfr",
        "outputId": "144c019f-c02b-4b0f-ee51-c78ae2744262",
        "colab": {
          "base_uri": "https://localhost:8080/"
        }
      },
      "execution_count": 5,
      "outputs": [
        {
          "output_type": "stream",
          "name": "stdout",
          "text": [
            "4\n"
          ]
        }
      ]
    },
    {
      "cell_type": "code",
      "source": [
        "a = [1,2,5]\n",
        "a1, a2, a3 = a\n",
        "print(a1, a2, a3)\n",
        "\n",
        "b = (4,5,6)\n",
        "b1,b2,b3 = b\n",
        "print(b1,b2,b3)"
      ],
      "metadata": {
        "id": "IG676l5sAjXn",
        "outputId": "81310e72-c409-4a89-a802-1596b85bc0c2",
        "colab": {
          "base_uri": "https://localhost:8080/"
        }
      },
      "execution_count": 6,
      "outputs": [
        {
          "output_type": "stream",
          "name": "stdout",
          "text": [
            "1 2 5\n",
            "4 5 6\n"
          ]
        }
      ]
    },
    {
      "cell_type": "code",
      "source": [
        "for a in [1,23,4]: \n",
        "  print(a)\n",
        "\n",
        "for a in range(3,5):\n",
        "  print(a)\n",
        "\n",
        "for a in range(3):\n",
        "  print(a)\n"
      ],
      "metadata": {
        "id": "HbT84JbRB4YX",
        "outputId": "fdeeff9f-d916-4b81-b5f7-7972fa21bc60",
        "colab": {
          "base_uri": "https://localhost:8080/"
        }
      },
      "execution_count": 7,
      "outputs": [
        {
          "output_type": "stream",
          "name": "stdout",
          "text": [
            "1\n",
            "23\n",
            "4\n",
            "3\n",
            "4\n",
            "0\n",
            "1\n",
            "2\n"
          ]
        }
      ]
    },
    {
      "cell_type": "code",
      "source": [
        "def add(a,b):\n",
        "  c = a+b\n",
        "  return c\n",
        "\n",
        "print(add(6,8))"
      ],
      "metadata": {
        "id": "QwzLkabwCJzq",
        "outputId": "b8a8b3f1-7787-4e72-e2ba-39c20f1154a4",
        "colab": {
          "base_uri": "https://localhost:8080/"
        }
      },
      "execution_count": 8,
      "outputs": [
        {
          "output_type": "stream",
          "name": "stdout",
          "text": [
            "14\n"
          ]
        }
      ]
    },
    {
      "cell_type": "markdown",
      "source": [
        "tupple dan list bisa dipassing ke function langsung gt"
      ],
      "metadata": {
        "id": "3jA3ezI2CdPL"
      }
    },
    {
      "cell_type": "code",
      "source": [
        "def add(a,b,c):\n",
        "  d = a + b + c\n",
        "  return d\n",
        "\n",
        "e = (1,2,3)\n",
        "f = [2,4,5]\n",
        "print(add(*e))\n",
        "print(add(*f))"
      ],
      "metadata": {
        "id": "JC2SmS5BCyGv",
        "outputId": "55804bde-2274-402a-d142-7ac8118b6b21",
        "colab": {
          "base_uri": "https://localhost:8080/"
        }
      },
      "execution_count": 9,
      "outputs": [
        {
          "output_type": "stream",
          "name": "stdout",
          "text": [
            "6\n",
            "11\n"
          ]
        }
      ]
    },
    {
      "cell_type": "code",
      "source": [
        "a = 123\n",
        "\n",
        "def setLocal(n):\n",
        "  a = 456\n",
        "  print(a)\n",
        "\n",
        "setLocal(a)\n",
        "print(a)"
      ],
      "metadata": {
        "id": "7HmtREEdC77q",
        "outputId": "c2472d47-18e4-45cf-cc1a-fc68359d37cf",
        "colab": {
          "base_uri": "https://localhost:8080/"
        }
      },
      "execution_count": 10,
      "outputs": [
        {
          "output_type": "stream",
          "name": "stdout",
          "text": [
            "456\n",
            "123\n"
          ]
        }
      ]
    },
    {
      "cell_type": "code",
      "source": [
        "class Calc:\n",
        "  def __init__(self, a):\n",
        "    self.a = a\n",
        "\n",
        "  def add(self, b):\n",
        "    print(self.a + b)\n",
        "  \n",
        "  def mul(self, b):\n",
        "    print(self.a * b)"
      ],
      "metadata": {
        "id": "uY71zE3TDWaV"
      },
      "execution_count": 11,
      "outputs": []
    },
    {
      "cell_type": "code",
      "source": [
        "calc = Calc(3)\n",
        "calc.add(4)\n",
        "calc.mul(9)"
      ],
      "metadata": {
        "id": "0MB9ssEmHOok",
        "outputId": "cf5074f3-7fc0-495b-91ca-742258efb703",
        "colab": {
          "base_uri": "https://localhost:8080/"
        }
      },
      "execution_count": 12,
      "outputs": [
        {
          "output_type": "stream",
          "name": "stdout",
          "text": [
            "7\n",
            "27\n"
          ]
        }
      ]
    },
    {
      "cell_type": "markdown",
      "source": [
        "* Cara inheritance"
      ],
      "metadata": {
        "id": "duodOqPWHVc3"
      }
    },
    {
      "cell_type": "code",
      "source": [
        "class CalcPlus(Calc):\n",
        "  def substract(self, b):\n",
        "    print(self.a - b)"
      ],
      "metadata": {
        "id": "Rt940STaIPf1"
      },
      "execution_count": 13,
      "outputs": []
    },
    {
      "cell_type": "code",
      "source": [
        "calcPlus = CalcPlus(4)\n",
        "calcPlus.substract(5)"
      ],
      "metadata": {
        "id": "uJ25C6XoIq9q",
        "outputId": "6bac715e-8abf-4486-915f-ccf962e6f502",
        "colab": {
          "base_uri": "https://localhost:8080/"
        }
      },
      "execution_count": 14,
      "outputs": [
        {
          "output_type": "stream",
          "name": "stdout",
          "text": [
            "-1\n"
          ]
        }
      ]
    },
    {
      "cell_type": "code",
      "source": [
        "!pwd"
      ],
      "metadata": {
        "id": "Ca4HrMpjIx5a",
        "outputId": "99299ec5-0a92-4814-a2c1-33c642f0562a",
        "colab": {
          "base_uri": "https://localhost:8080/"
        }
      },
      "execution_count": 15,
      "outputs": [
        {
          "output_type": "stream",
          "name": "stdout",
          "text": [
            "/content\n"
          ]
        }
      ]
    },
    {
      "cell_type": "code",
      "source": [
        "!ls"
      ],
      "metadata": {
        "id": "-bP90KQ1I2HQ",
        "outputId": "5f2fe55e-b460-4c3b-dfc7-6bb7a4f50f76",
        "colab": {
          "base_uri": "https://localhost:8080/"
        }
      },
      "execution_count": 16,
      "outputs": [
        {
          "output_type": "stream",
          "name": "stdout",
          "text": [
            "sample_data\n"
          ]
        }
      ]
    },
    {
      "cell_type": "code",
      "source": [
        "!date"
      ],
      "metadata": {
        "id": "T8ujeYg0I3TU",
        "outputId": "7ca49eb2-bf5d-4717-f357-3af487ef9741",
        "colab": {
          "base_uri": "https://localhost:8080/"
        }
      },
      "execution_count": 17,
      "outputs": [
        {
          "output_type": "stream",
          "name": "stdout",
          "text": [
            "Tue 14 Feb 2023 04:08:50 PM UTC\n"
          ]
        }
      ]
    },
    {
      "cell_type": "code",
      "source": [
        "!pip show request"
      ],
      "metadata": {
        "id": "_wQ97omOI4RS",
        "outputId": "fd311597-e620-42a6-deff-e827f5e988a3",
        "colab": {
          "base_uri": "https://localhost:8080/"
        }
      },
      "execution_count": 18,
      "outputs": [
        {
          "output_type": "stream",
          "name": "stdout",
          "text": [
            "\u001b[33mWARNING: Package(s) not found: request\u001b[0m\u001b[33m\n",
            "\u001b[0m"
          ]
        }
      ]
    },
    {
      "cell_type": "markdown",
      "source": [
        "\n",
        "\n",
        "---\n",
        "\n",
        "---\n",
        "\n",
        "\n",
        "**BASIC JANOME**"
      ],
      "metadata": {
        "id": "G8eQXi74JKJF"
      }
    },
    {
      "cell_type": "code",
      "source": [
        "!pip install janome"
      ],
      "metadata": {
        "colab": {
          "base_uri": "https://localhost:8080/"
        },
        "id": "q5LiefiHJOvo",
        "outputId": "8dea33a1-2919-4986-a917-3d8ad6b0f5d7"
      },
      "execution_count": 19,
      "outputs": [
        {
          "output_type": "stream",
          "name": "stdout",
          "text": [
            "Looking in indexes: https://pypi.org/simple, https://us-python.pkg.dev/colab-wheels/public/simple/\n",
            "Collecting janome\n",
            "  Downloading Janome-0.4.2-py2.py3-none-any.whl (19.7 MB)\n",
            "\u001b[2K     \u001b[90m━━━━━━━━━━━━━━━━━━━━━━━━━━━━━━━━━━━━━━━━\u001b[0m \u001b[32m19.7/19.7 MB\u001b[0m \u001b[31m59.3 MB/s\u001b[0m eta \u001b[36m0:00:00\u001b[0m\n",
            "\u001b[?25hInstalling collected packages: janome\n",
            "Successfully installed janome-0.4.2\n"
          ]
        }
      ]
    },
    {
      "cell_type": "code",
      "source": [
        "from janome.tokenizer import Tokenizer\n",
        "\n",
        "t = Tokenizer()\n",
        "\n",
        "s = 'すもももももももものうち'\n",
        "\n",
        "print(type(t.tokenize(s)))\n",
        "# print(type(t.tokenize(s)[0]))"
      ],
      "metadata": {
        "colab": {
          "base_uri": "https://localhost:8080/"
        },
        "id": "DC-PT9EOJ09p",
        "outputId": "896c0fd1-a6bc-434b-8e20-593a4abb917f"
      },
      "execution_count": 20,
      "outputs": [
        {
          "output_type": "stream",
          "name": "stdout",
          "text": [
            "<class 'generator'>\n"
          ]
        }
      ]
    },
    {
      "cell_type": "code",
      "source": [
        "t = Tokenizer()\n",
        "\n",
        "s = 'すもももももももものうち'\n",
        "\n",
        "for token in t.tokenize(s):\n",
        "    print(token)"
      ],
      "metadata": {
        "colab": {
          "base_uri": "https://localhost:8080/"
        },
        "id": "ftEALXtbK6CN",
        "outputId": "7e7f0c20-b600-41b8-bbb2-372a830c75a6"
      },
      "execution_count": 21,
      "outputs": [
        {
          "output_type": "stream",
          "name": "stdout",
          "text": [
            "すもも\t名詞,一般,*,*,*,*,すもも,スモモ,スモモ\n",
            "も\t助詞,係助詞,*,*,*,*,も,モ,モ\n",
            "もも\t名詞,一般,*,*,*,*,もも,モモ,モモ\n",
            "も\t助詞,係助詞,*,*,*,*,も,モ,モ\n",
            "もも\t名詞,一般,*,*,*,*,もも,モモ,モモ\n",
            "の\t助詞,連体化,*,*,*,*,の,ノ,ノ\n",
            "うち\t名詞,非自立,副詞可能,*,*,*,うち,ウチ,ウチ\n"
          ]
        }
      ]
    },
    {
      "cell_type": "markdown",
      "source": [
        "|token.メソッド|機能|\n",
        "|----------------------|-------------------------------------------------------------------|\n",
        "|surface|文字列中で使われているそのままの形|\n",
        "|part_of_speech|品詞|\n",
        "|infl_type|活用型|\n",
        "|infl_form|活用形|\n",
        "|base_form|基本形，見出し語|\n",
        "|reading|読み|\n",
        "|phonetic|発音|"
      ],
      "metadata": {
        "id": "4ocVxfSrUcMM"
      }
    },
    {
      "cell_type": "code",
      "source": [
        "t = Tokenizer()\n",
        "\n",
        "token = t.tokenize('走れ')\n",
        "\n",
        "print(type(token))\n",
        "\n",
        "for t in token:\n",
        "  print(t)\n",
        "  print(t.surface) \n",
        "  print(t.part_of_speech.split(\",\"))\n",
        "  print(t.infl_type)\n",
        "  print(t.infl_form)\n",
        "  print(t.base_form)\n",
        "  print(t.reading)\n",
        "  print(t.phonetic)"
      ],
      "metadata": {
        "colab": {
          "base_uri": "https://localhost:8080/"
        },
        "id": "3WcZEZxMLajJ",
        "outputId": "0a49fbe0-b997-494e-d7ab-290a6327a8ff"
      },
      "execution_count": 22,
      "outputs": [
        {
          "output_type": "stream",
          "name": "stdout",
          "text": [
            "<class 'generator'>\n",
            "走れ\t動詞,自立,*,*,五段・ラ行,命令ｅ,走る,ハシレ,ハシレ\n",
            "走れ\n",
            "['動詞', '自立', '*', '*']\n",
            "五段・ラ行\n",
            "命令ｅ\n",
            "走る\n",
            "ハシレ\n",
            "ハシレ\n"
          ]
        }
      ]
    },
    {
      "cell_type": "code",
      "source": [
        "t = Tokenizer()\n",
        "\n",
        "s = '走れと言われたので走ると言った'\n",
        "\n",
        "for token in t.tokenize(s):\n",
        "  print(token)\n"
      ],
      "metadata": {
        "colab": {
          "base_uri": "https://localhost:8080/"
        },
        "id": "bFKqRyw2M7SU",
        "outputId": "d5e2f647-4385-489d-d034-3d4e903b493a"
      },
      "execution_count": 23,
      "outputs": [
        {
          "output_type": "stream",
          "name": "stdout",
          "text": [
            "走れ\t動詞,自立,*,*,五段・ラ行,命令ｅ,走る,ハシレ,ハシレ\n",
            "と\t助詞,格助詞,引用,*,*,*,と,ト,ト\n",
            "言わ\t動詞,自立,*,*,五段・ワ行促音便,未然形,言う,イワ,イワ\n",
            "れ\t動詞,接尾,*,*,一段,連用形,れる,レ,レ\n",
            "た\t助動詞,*,*,*,特殊・タ,基本形,た,タ,タ\n",
            "ので\t助詞,接続助詞,*,*,*,*,ので,ノデ,ノデ\n",
            "走る\t動詞,自立,*,*,五段・ラ行,基本形,走る,ハシル,ハシル\n",
            "と\t助詞,格助詞,引用,*,*,*,と,ト,ト\n",
            "言っ\t動詞,自立,*,*,五段・ワ行促音便,連用タ接続,言う,イッ,イッ\n",
            "た\t助動詞,*,*,*,特殊・タ,基本形,た,タ,タ\n"
          ]
        }
      ]
    },
    {
      "cell_type": "code",
      "source": [
        "# kalau wakati true itu dia jadi return list of string \n",
        "# bukan list of token object\n",
        "\n",
        "a = []\n",
        "for token in t.tokenize(s, wakati=True):\n",
        "  a.append(token)\n",
        "\n",
        "print(a)"
      ],
      "metadata": {
        "colab": {
          "base_uri": "https://localhost:8080/"
        },
        "id": "SkYdk-jhUK8G",
        "outputId": "48cc2de5-5cb2-4f6f-f128-b926fbfad720"
      },
      "execution_count": 24,
      "outputs": [
        {
          "output_type": "stream",
          "name": "stdout",
          "text": [
            "['走れ', 'と', '言わ', 'れ', 'た', 'ので', '走る', 'と', '言っ', 'た']\n"
          ]
        }
      ]
    },
    {
      "cell_type": "code",
      "source": [
        "print([token.surface for token in t.tokenize(s)]) #token.surface liat ini aja"
      ],
      "metadata": {
        "colab": {
          "base_uri": "https://localhost:8080/"
        },
        "id": "IIefZ1E3VBzN",
        "outputId": "4f3c1527-ab70-4bf8-ead9-c9937f61d33d"
      },
      "execution_count": 25,
      "outputs": [
        {
          "output_type": "stream",
          "name": "stdout",
          "text": [
            "['走れ', 'と', '言わ', 'れ', 'た', 'ので', '走る', 'と', '言っ', 'た']\n"
          ]
        }
      ]
    },
    {
      "cell_type": "code",
      "source": [
        "print([token.base_form for token in t.tokenize(s)])\n",
        "print([token.part_of_speech.split(',')[0] for token in t.tokenize(s)])"
      ],
      "metadata": {
        "colab": {
          "base_uri": "https://localhost:8080/"
        },
        "id": "lVuDDAlSVP8u",
        "outputId": "063b18ac-edd4-4344-b201-89483755bdea"
      },
      "execution_count": 26,
      "outputs": [
        {
          "output_type": "stream",
          "name": "stdout",
          "text": [
            "['走る', 'と', '言う', 'れる', 'た', 'ので', '走る', 'と', '言う', 'た']\n",
            "['動詞', '助詞', '動詞', '動詞', '助動詞', '助詞', '動詞', '助詞', '動詞', '助動詞']\n"
          ]
        }
      ]
    },
    {
      "cell_type": "code",
      "source": [
        "# perhatikan gimana penggunaan for dan if sama statrswith() split()\n",
        "print([token.surface for token in t.tokenize(s) if token.part_of_speech.startswith('動詞')])\n",
        "print([token.surface for token in t.tokenize(s) if token.part_of_speech.startswith('動詞,自立')])\n",
        "print([token.surface for token in t.tokenize(s) if token.part_of_speech.split(\",\")[0] in [\"動詞\", '助動詞']])"
      ],
      "metadata": {
        "colab": {
          "base_uri": "https://localhost:8080/"
        },
        "id": "ZttJ70sIWhq7",
        "outputId": "76d1012f-0741-47c3-ca40-edcde279b5f8"
      },
      "execution_count": 27,
      "outputs": [
        {
          "output_type": "stream",
          "name": "stdout",
          "text": [
            "['走れ', '言わ', 'れ', '走る', '言っ']\n",
            "['走れ', '言わ', '走る', '言っ']\n",
            "['走れ', '言わ', 'れ', 'た', '走る', '言っ', 'た']\n"
          ]
        }
      ]
    },
    {
      "cell_type": "markdown",
      "source": [
        "****\n",
        "**Kadai**"
      ],
      "metadata": {
        "id": "qBA0nhfEX3C-"
      }
    },
    {
      "cell_type": "markdown",
      "source": [
        "##課題1-1：\n",
        "　文l = 'メロスは寒い冬に稚内から東京まで自転車で走った'を定義し，\n",
        "(l 小文字エル)\n",
        "1. 文l において，品詞が名詞である単語を表示してみる．\n",
        "2. 文l において，品詞が助詞，格助詞である単語を表示してみる．\n",
        "3. 文l において，品詞が名詞または形容詞である単語を表示してみる．"
      ],
      "metadata": {
        "id": "md01ysigX6Ze"
      }
    },
    {
      "cell_type": "code",
      "source": [
        "l = 'メロスは寒い冬に稚内から東京まで自転車で走った'\n",
        "\n",
        "for token in t.tokenize(l):\n",
        "  print(token)\n",
        "\n",
        "print([token.surface for token in t.tokenize(l) if token.part_of_speech.startswith(\"名詞\")])\n",
        "print([token.surface for token in t.tokenize(l) if token.part_of_speech.startswith(\"助詞,格助詞\")])\n",
        "print([token.surface for token in t.tokenize(l) if token.part_of_speech.split(',')[0] in [\"名詞\", \"形容詞\"]])"
      ],
      "metadata": {
        "colab": {
          "base_uri": "https://localhost:8080/"
        },
        "id": "pIYXhOvkYEkb",
        "outputId": "44109a80-5b93-448a-e67c-71d590dda04d"
      },
      "execution_count": 28,
      "outputs": [
        {
          "output_type": "stream",
          "name": "stdout",
          "text": [
            "メロス\t名詞,一般,*,*,*,*,メロス,*,*\n",
            "は\t助詞,係助詞,*,*,*,*,は,ハ,ワ\n",
            "寒い\t形容詞,自立,*,*,形容詞・アウオ段,基本形,寒い,サムイ,サムイ\n",
            "冬\t名詞,一般,*,*,*,*,冬,フユ,フユ\n",
            "に\t助詞,格助詞,一般,*,*,*,に,ニ,ニ\n",
            "稚内\t名詞,固有名詞,組織,*,*,*,稚内,ワッカナイ,ワッカナイ\n",
            "から\t助詞,格助詞,一般,*,*,*,から,カラ,カラ\n",
            "東京\t名詞,固有名詞,地域,一般,*,*,東京,トウキョウ,トーキョー\n",
            "まで\t助詞,副助詞,*,*,*,*,まで,マデ,マデ\n",
            "自転車\t名詞,一般,*,*,*,*,自転車,ジテンシャ,ジテンシャ\n",
            "で\t助詞,格助詞,一般,*,*,*,で,デ,デ\n",
            "走っ\t動詞,自立,*,*,五段・ラ行,連用タ接続,走る,ハシッ,ハシッ\n",
            "た\t助動詞,*,*,*,特殊・タ,基本形,た,タ,タ\n",
            "['メロス', '冬', '稚内', '東京', '自転車']\n",
            "['に', 'から', 'で']\n",
            "['メロス', '寒い', '冬', '稚内', '東京', '自転車']\n"
          ]
        }
      ]
    },
    {
      "cell_type": "markdown",
      "source": [
        "****\n",
        "#Count\n",
        "Pakai module collections untuk menghitung"
      ],
      "metadata": {
        "id": "vhT4s3VtaHog"
      }
    },
    {
      "cell_type": "code",
      "source": [
        "from janome.tokenizer import Tokenizer\n",
        "import collections\n",
        "\n",
        "t = Tokenizer()\n",
        "s= '赤巻紙青巻紙黄巻紙'\n",
        "\n",
        "for token in t.tokenize(s):\n",
        "  print(token)\n",
        "\n",
        "c = collections.Counter(t.tokenize(s, wakati = True))\n",
        "# yang dipassing ke counter itu list\n",
        "print(type(c))\n",
        "print(c)"
      ],
      "metadata": {
        "id": "6aFimFs6aJul",
        "outputId": "49996f48-2090-43d5-989c-44f4cbfa33ba",
        "colab": {
          "base_uri": "https://localhost:8080/"
        }
      },
      "execution_count": 29,
      "outputs": [
        {
          "output_type": "stream",
          "name": "stdout",
          "text": [
            "赤\t名詞,一般,*,*,*,*,赤,アカ,アカ\n",
            "巻紙\t名詞,一般,*,*,*,*,巻紙,マキガミ,マキガミ\n",
            "青\t名詞,一般,*,*,*,*,青,アオ,アオ\n",
            "巻紙\t名詞,一般,*,*,*,*,巻紙,マキガミ,マキガミ\n",
            "黄\t名詞,一般,*,*,*,*,黄,キ,キ\n",
            "巻紙\t名詞,一般,*,*,*,*,巻紙,マキガミ,マキガミ\n",
            "<class 'collections.Counter'>\n",
            "Counter({'巻紙': 3, '赤': 1, '青': 1, '黄': 1})\n"
          ]
        }
      ]
    },
    {
      "cell_type": "code",
      "source": [
        "print(c['赤'])\n",
        "# kalau misal gk ada akan return 0"
      ],
      "metadata": {
        "id": "o5hWTaEXbpJq",
        "outputId": "eef6e7a9-cf6a-42f3-fe71-9842318c680c",
        "colab": {
          "base_uri": "https://localhost:8080/"
        }
      },
      "execution_count": 30,
      "outputs": [
        {
          "output_type": "stream",
          "name": "stdout",
          "text": [
            "1\n"
          ]
        }
      ]
    },
    {
      "cell_type": "code",
      "source": [
        "mc = c.most_common()\n",
        "print(mc)\n",
        "# dia jadi list of tupple ('kata', counter)"
      ],
      "metadata": {
        "id": "6CjubOTUbvXy",
        "outputId": "5cc5f351-be3f-40b1-f179-5e3fa8ae8cf7",
        "colab": {
          "base_uri": "https://localhost:8080/"
        }
      },
      "execution_count": 31,
      "outputs": [
        {
          "output_type": "stream",
          "name": "stdout",
          "text": [
            "[('巻紙', 3), ('赤', 1), ('青', 1), ('黄', 1)]\n"
          ]
        }
      ]
    },
    {
      "cell_type": "code",
      "source": [
        "from janome.tokenizer import Tokenizer\n",
        "from janome.analyzer import Analyzer\n",
        "from janome.charfilter import *\n",
        "from janome.tokenfilter import *\n",
        "\n",
        "s= '花子は赤巻紙青巻紙黄巻紙と言った'\n",
        "\n",
        "for token in t.tokenize(s):\n",
        "  print(token)\n",
        "\n"
      ],
      "metadata": {
        "id": "96Txy5utbzTr",
        "outputId": "10a19aa4-edaf-4757-9142-4132b18facc3",
        "colab": {
          "base_uri": "https://localhost:8080/"
        }
      },
      "execution_count": 32,
      "outputs": [
        {
          "output_type": "stream",
          "name": "stdout",
          "text": [
            "花子\t名詞,固有名詞,人名,名,*,*,花子,ハナコ,ハナコ\n",
            "は\t助詞,係助詞,*,*,*,*,は,ハ,ワ\n",
            "赤\t名詞,一般,*,*,*,*,赤,アカ,アカ\n",
            "巻紙\t名詞,一般,*,*,*,*,巻紙,マキガミ,マキガミ\n",
            "青\t名詞,一般,*,*,*,*,青,アオ,アオ\n",
            "巻紙\t名詞,一般,*,*,*,*,巻紙,マキガミ,マキガミ\n",
            "黄\t名詞,一般,*,*,*,*,黄,キ,キ\n",
            "巻紙\t名詞,一般,*,*,*,*,巻紙,マキガミ,マキガミ\n",
            "と\t助詞,格助詞,引用,*,*,*,と,ト,ト\n",
            "言っ\t動詞,自立,*,*,五段・ワ行促音便,連用タ接続,言う,イッ,イッ\n",
            "た\t助動詞,*,*,*,特殊・タ,基本形,た,タ,タ\n"
          ]
        }
      ]
    },
    {
      "cell_type": "code",
      "source": [
        "a = Analyzer(token_filters=[POSKeepFilter(['名詞']), TokenCountFilter()])\n",
        "\n",
        "g_count = a.analyze(s)\n",
        "print(type(g_count))\n",
        "\n",
        "i = 0\n",
        "\n",
        "for i in g_count:\n",
        "  print(i)"
      ],
      "metadata": {
        "id": "VI97qNEvdXt6",
        "outputId": "849fd56f-65ee-4b93-cf0e-58afb27210e1",
        "colab": {
          "base_uri": "https://localhost:8080/"
        }
      },
      "execution_count": 33,
      "outputs": [
        {
          "output_type": "stream",
          "name": "stdout",
          "text": [
            "<class 'generator'>\n",
            "('花子', 1)\n",
            "('赤', 1)\n",
            "('巻紙', 3)\n",
            "('青', 1)\n",
            "('黄', 1)\n"
          ]
        }
      ]
    },
    {
      "cell_type": "code",
      "source": [
        "s = '<div>PythonとＰＹＴＨＯＮとパイソンとﾊﾟｲｿﾝ</div>'\n",
        "\n",
        "for token in t.tokenize(s):\n",
        "  print(token)\n",
        "\n",
        "#CharFilterおよびTokenFilterをリストで指定して\n",
        "char_filters = [UnicodeNormalizeCharFilter(), \n",
        "                RegexReplaceCharFilter('<.*?>', '')]\n",
        "\n",
        "token_filters = [POSKeepFilter(['名詞']),\n",
        "                 LowerCaseFilter(),\n",
        "                 ExtractAttributeFilter('surface')]\n",
        "# filter ini harus dalam list\n",
        "\n",
        "#Analyzerオブジェクトを生成\n",
        "a = Analyzer(char_filters=char_filters, token_filters=token_filters)\n",
        "\n",
        "for token in a.analyze(s):\n",
        "    print(token)"
      ],
      "metadata": {
        "id": "JcHclJLmenJH",
        "outputId": "47e46c5e-5d38-4ee8-a8a2-cce9d89af6c4",
        "colab": {
          "base_uri": "https://localhost:8080/"
        }
      },
      "execution_count": 34,
      "outputs": [
        {
          "output_type": "stream",
          "name": "stdout",
          "text": [
            "<\t名詞,サ変接続,*,*,*,*,<,*,*\n",
            "div\t名詞,一般,*,*,*,*,div,*,*\n",
            ">\t名詞,サ変接続,*,*,*,*,>,*,*\n",
            "Python\t名詞,一般,*,*,*,*,Python,*,*\n",
            "と\t助詞,並立助詞,*,*,*,*,と,ト,ト\n",
            "ＰＹＴＨＯＮ\t名詞,固有名詞,組織,*,*,*,ＰＹＴＨＯＮ,*,*\n",
            "と\t助詞,並立助詞,*,*,*,*,と,ト,ト\n",
            "パイソン\t名詞,一般,*,*,*,*,パイソン,*,*\n",
            "と\t助詞,並立助詞,*,*,*,*,と,ト,ト\n",
            "ﾊﾟｲｿﾝ\t名詞,一般,*,*,*,*,ﾊﾟｲｿﾝ,*,*\n",
            "</\t名詞,サ変接続,*,*,*,*,</,*,*\n",
            "div\t名詞,一般,*,*,*,*,div,*,*\n",
            ">\t名詞,サ変接続,*,*,*,*,>,*,*\n",
            "python\n",
            "python\n",
            "パイソン\n",
            "パイソン\n"
          ]
        }
      ]
    },
    {
      "cell_type": "code",
      "source": [
        "s = '釧路工業高等専門学校の創造工学科の情報工学分野'\n",
        "for token in t.tokenize(s):\n",
        "  print(token)\n",
        "\n",
        "print(\"==================================\\n\")\n",
        "\n",
        "a = Analyzer(token_filters=[CompoundNounFilter()])\n",
        "# dibikin jadi kata benda majemuk gitu (noun sama noun digabung)\n",
        "\n",
        "for token in a.analyze(s):\n",
        "  print(token)"
      ],
      "metadata": {
        "id": "XivxKo9AftbY",
        "outputId": "83e26a62-6ef2-421a-b494-73292f2530a5",
        "colab": {
          "base_uri": "https://localhost:8080/"
        }
      },
      "execution_count": 35,
      "outputs": [
        {
          "output_type": "stream",
          "name": "stdout",
          "text": [
            "釧路\t名詞,固有名詞,地域,一般,*,*,釧路,クシロ,クシロ\n",
            "工業\t名詞,一般,*,*,*,*,工業,コウギョウ,コーギョー\n",
            "高等\t名詞,形容動詞語幹,*,*,*,*,高等,コウトウ,コートー\n",
            "専門\t名詞,一般,*,*,*,*,専門,センモン,センモン\n",
            "学校\t名詞,一般,*,*,*,*,学校,ガッコウ,ガッコー\n",
            "の\t助詞,連体化,*,*,*,*,の,ノ,ノ\n",
            "創造\t名詞,サ変接続,*,*,*,*,創造,ソウゾウ,ソーゾー\n",
            "工学科\t名詞,一般,*,*,*,*,工学科,コウガッカ,コーガッカ\n",
            "の\t助詞,連体化,*,*,*,*,の,ノ,ノ\n",
            "情報\t名詞,一般,*,*,*,*,情報,ジョウホウ,ジョーホー\n",
            "工学\t名詞,一般,*,*,*,*,工学,コウガク,コーガク\n",
            "分野\t名詞,一般,*,*,*,*,分野,ブンヤ,ブンヤ\n",
            "==================================\n",
            "\n",
            "釧路工業高等専門学校\t名詞,複合,*,*,*,*,釧路工業高等専門学校,クシロコウギョウコウトウセンモンガッコウ,クシロコーギョーコートーセンモンガッコー\n",
            "の\t助詞,連体化,*,*,*,*,の,ノ,ノ\n",
            "創造工学科\t名詞,複合,*,*,*,*,創造工学科,ソウゾウコウガッカ,ソーゾーコーガッカ\n",
            "の\t助詞,連体化,*,*,*,*,の,ノ,ノ\n",
            "情報工学分野\t名詞,複合,*,*,*,*,情報工学分野,ジョウホウコウガクブンヤ,ジョーホーコーガクブンヤ\n"
          ]
        }
      ]
    },
    {
      "cell_type": "code",
      "source": [
        "s = '赤巻紙青巻紙黄巻紙'\n",
        "a = Analyzer(token_filters=[POSKeepFilter(\"名詞\"), TokenCountFilter()])\n",
        "\n",
        "g_count = a.analyze(s)\n",
        "\n",
        "for i in g_count:\n",
        "  print(i)\n",
        "\n",
        "print(type(g_count))"
      ],
      "metadata": {
        "id": "9XFtqr9xgQpn",
        "outputId": "4f52d183-c95c-438c-ada1-08a1d745f2cb",
        "colab": {
          "base_uri": "https://localhost:8080/"
        }
      },
      "execution_count": 47,
      "outputs": [
        {
          "output_type": "stream",
          "name": "stdout",
          "text": [
            "('赤', 1)\n",
            "('巻紙', 3)\n",
            "('青', 1)\n",
            "('黄', 1)\n",
            "<class 'generator'>\n"
          ]
        }
      ]
    },
    {
      "cell_type": "code",
      "source": [
        "l_count = list(a.analyze(s))\n",
        "print(type(l_count))\n",
        "\n",
        "print(\"===========\\n\")\n",
        "\n",
        "print(l_count)"
      ],
      "metadata": {
        "id": "XbRpZHLxgmo8",
        "outputId": "69d54b33-8188-4731-e866-1c60a569c06b",
        "colab": {
          "base_uri": "https://localhost:8080/"
        }
      },
      "execution_count": 37,
      "outputs": [
        {
          "output_type": "stream",
          "name": "stdout",
          "text": [
            "<class 'list'>\n",
            "===========\n",
            "\n",
            "[('赤', 1), ('巻紙', 3), ('青', 1), ('黄', 1)]\n"
          ]
        }
      ]
    },
    {
      "cell_type": "code",
      "source": [
        "d_count = dict(a.analyze(s))\n",
        "print(type(d_count))\n",
        "\n",
        "print(\"============\\n\")\n",
        "\n",
        "print(d_count)"
      ],
      "metadata": {
        "id": "l3DU8pOygzRT",
        "outputId": "16ba871c-15c4-4fa8-a86e-0fa3d58e12bc",
        "colab": {
          "base_uri": "https://localhost:8080/"
        }
      },
      "execution_count": 38,
      "outputs": [
        {
          "output_type": "stream",
          "name": "stdout",
          "text": [
            "<class 'dict'>\n",
            "============\n",
            "\n",
            "{'赤': 1, '巻紙': 3, '青': 1, '黄': 1}\n"
          ]
        }
      ]
    },
    {
      "cell_type": "code",
      "source": [
        "print(d_count[\"赤\"])\n",
        "print(d_count[\"巻紙\"])\n",
        "# print(d_count[\"巻髪\"])\n",
        "# ini error karena dalam dict tidak ada"
      ],
      "metadata": {
        "id": "xKnzc-OGhB8v",
        "outputId": "9c2043b7-7ab1-4de1-de9d-309022a9722b",
        "colab": {
          "base_uri": "https://localhost:8080/"
        }
      },
      "execution_count": 39,
      "outputs": [
        {
          "output_type": "stream",
          "name": "stdout",
          "text": [
            "1\n",
            "3\n"
          ]
        }
      ]
    },
    {
      "cell_type": "code",
      "source": [
        "print(d_count.get(\"巻髪\", 0))\n",
        "# kalau ini misal gk ada pun, gk error"
      ],
      "metadata": {
        "id": "zrLfej6YhJXe",
        "outputId": "e624f0df-d425-4c26-e7f9-ea3e40297911",
        "colab": {
          "base_uri": "https://localhost:8080/"
        }
      },
      "execution_count": 40,
      "outputs": [
        {
          "output_type": "stream",
          "name": "stdout",
          "text": [
            "0\n"
          ]
        }
      ]
    },
    {
      "cell_type": "code",
      "source": [
        "a = Analyzer(token_filters=[TokenCountFilter()])\n",
        "\n",
        "s = '走れと言われたので走ると言った'\n",
        "\n",
        "print('文中で使っているままの単語を表示')\n",
        "print(list(a.analyze(s)))\n",
        "\n",
        "a = Analyzer(token_filters=[TokenCountFilter(att='base_form')])\n",
        "\n",
        "print('単語の原型を表示')\n",
        "print(list(a.analyze(s)))"
      ],
      "metadata": {
        "id": "nKdNSJQOhpH5",
        "outputId": "f9ec6c82-b25b-4774-f034-e85a44e8b473",
        "colab": {
          "base_uri": "https://localhost:8080/"
        }
      },
      "execution_count": 41,
      "outputs": [
        {
          "output_type": "stream",
          "name": "stdout",
          "text": [
            "文中で使っているままの単語を表示\n",
            "[('走れ', 1), ('と', 2), ('言わ', 1), ('れ', 1), ('た', 2), ('ので', 1), ('走る', 1), ('言っ', 1)]\n",
            "単語の原型を表示\n",
            "[('走る', 2), ('と', 2), ('言う', 2), ('れる', 1), ('た', 2), ('ので', 1)]\n"
          ]
        }
      ]
    },
    {
      "cell_type": "code",
      "source": [
        "a = Analyzer(token_filters=[TokenCountFilter(att = 'part_of_speech')])\n",
        "print(list(a.analyze(s)))"
      ],
      "metadata": {
        "id": "ctrtg07-ic-x",
        "outputId": "d47b0a8a-7945-466c-fb6d-a1fe463d8cce",
        "colab": {
          "base_uri": "https://localhost:8080/"
        }
      },
      "execution_count": 42,
      "outputs": [
        {
          "output_type": "stream",
          "name": "stdout",
          "text": [
            "[('動詞,自立,*,*', 4), ('助詞,格助詞,引用,*', 2), ('動詞,接尾,*,*', 1), ('助動詞,*,*,*', 2), ('助詞,接続助詞,*,*', 1)]\n"
          ]
        }
      ]
    },
    {
      "cell_type": "code",
      "source": [
        "s = '太郎は花子に花を贈った'\n",
        "\n",
        "a = Analyzer(token_filters=[POSKeepFilter(\"助動詞\")])\n",
        "# dalam filter() ini harus list\n",
        "\n",
        "print('正しく抽出されない場合(助動詞に含まれる助詞，動詞もとれてしまう)')\n",
        "for token in a.analyze(s):\n",
        "  print(token)\n",
        "\n",
        "a = Analyzer(token_filters=[POSKeepFilter(['助動詞'])])#リストで指定すると改善される\n",
        "\n",
        "print('=========\\n改善した結果')\n",
        "for token in a.analyze(s):\n",
        "    print(token)"
      ],
      "metadata": {
        "id": "2_mtI9Taiu0m",
        "outputId": "cfd427f9-c687-48d4-caa7-50899410aded",
        "colab": {
          "base_uri": "https://localhost:8080/"
        }
      },
      "execution_count": 43,
      "outputs": [
        {
          "output_type": "stream",
          "name": "stdout",
          "text": [
            "正しく抽出されない場合(助動詞に含まれる助詞，動詞もとれてしまう)\n",
            "は\t助詞,係助詞,*,*,*,*,は,ハ,ワ\n",
            "に\t助詞,格助詞,一般,*,*,*,に,ニ,ニ\n",
            "を\t助詞,格助詞,一般,*,*,*,を,ヲ,ヲ\n",
            "贈っ\t動詞,自立,*,*,五段・ラ行,連用タ接続,贈る,オクッ,オクッ\n",
            "た\t助動詞,*,*,*,特殊・タ,基本形,た,タ,タ\n",
            "=========\n",
            "改善した結果\n",
            "た\t助動詞,*,*,*,特殊・タ,基本形,た,タ,タ\n"
          ]
        }
      ]
    },
    {
      "cell_type": "code",
      "source": [
        "s = '太郎は花子に花を贈った'\n",
        "\n",
        "a = Analyzer(token_filters=[POSStopFilter(['助詞'])])\n",
        "\n",
        "for token in a.analyze(s):\n",
        "    print(token)"
      ],
      "metadata": {
        "id": "USo8Y-gIjXNQ",
        "outputId": "47bd3369-5120-4732-9bcf-9d46f74b5c4b",
        "colab": {
          "base_uri": "https://localhost:8080/"
        }
      },
      "execution_count": 44,
      "outputs": [
        {
          "output_type": "stream",
          "name": "stdout",
          "text": [
            "太郎\t名詞,固有名詞,人名,名,*,*,太郎,タロウ,タロー\n",
            "花子\t名詞,固有名詞,人名,名,*,*,花子,ハナコ,ハナコ\n",
            "花\t名詞,一般,*,*,*,*,花,ハナ,ハナ\n",
            "贈っ\t動詞,自立,*,*,五段・ラ行,連用タ接続,贈る,オクッ,オクッ\n",
            "た\t助動詞,*,*,*,特殊・タ,基本形,た,タ,タ\n"
          ]
        }
      ]
    },
    {
      "cell_type": "code",
      "source": [
        "from janome.tokenizer import Tokenizer\n",
        "\n",
        "tokenizer = Tokenizer()\n",
        "\n",
        "tokens = tokenizer.tokenize(\"これでみんなで原始人。肉を食べよう！\")\n",
        "\n",
        "for token in tokenizer.tokenize(\"これでみんなで原始人。肉を食べよう！\"):\n",
        "  print(token)\n",
        "\n",
        "print(\"================\\n\")\n",
        "def token2gensigo(input_token):\n",
        "    if input_token.part_of_speech.split(',')[0] == \"助詞\":\n",
        "        # 助詞 disini bisa diganti\n",
        "        return \"\"\n",
        "    else:\n",
        "        return input_token.reading\n",
        "\n",
        "\n",
        "result_str = \"\"\n",
        "#全てのtokenに，上でdef（定義）したtoken2gensigo関数を実行\n",
        "for token in tokens:\n",
        "    result_str += token2gensigo(token) + \" \"\n",
        "    \n",
        "print(result_str)"
      ],
      "metadata": {
        "id": "aOQX-04tj37z",
        "outputId": "7b892852-46aa-4469-acdd-85b25c56bf6e",
        "colab": {
          "base_uri": "https://localhost:8080/"
        }
      },
      "execution_count": 45,
      "outputs": [
        {
          "output_type": "stream",
          "name": "stdout",
          "text": [
            "これ\t名詞,代名詞,一般,*,*,*,これ,コレ,コレ\n",
            "で\t助詞,格助詞,一般,*,*,*,で,デ,デ\n",
            "みんな\t名詞,代名詞,一般,*,*,*,みんな,ミンナ,ミンナ\n",
            "で\t助詞,格助詞,一般,*,*,*,で,デ,デ\n",
            "原始\t名詞,一般,*,*,*,*,原始,ゲンシ,ゲンシ\n",
            "人\t名詞,接尾,一般,*,*,*,人,ジン,ジン\n",
            "。\t記号,句点,*,*,*,*,。,。,。\n",
            "肉\t名詞,一般,*,*,*,*,肉,ニク,ニク\n",
            "を\t助詞,格助詞,一般,*,*,*,を,ヲ,ヲ\n",
            "食べよ\t動詞,自立,*,*,一段,未然ウ接続,食べる,タベヨ,タベヨ\n",
            "う\t助動詞,*,*,*,不変化型,基本形,う,ウ,ウ\n",
            "！\t記号,一般,*,*,*,*,！,！,！\n",
            "================\n",
            "\n",
            "コレ  ミンナ  ゲンシ ジン 。 ニク  タベヨ ウ ！ \n"
          ]
        }
      ]
    },
    {
      "cell_type": "markdown",
      "source": [
        "****\n",
        "**KADAI 2**"
      ],
      "metadata": {
        "id": "jwywAx2dp00v"
      }
    },
    {
      "cell_type": "code",
      "source": [
        "from janome.tokenizer import Tokenizer\n",
        "\n",
        "t = Tokenizer()\n",
        "\n",
        "s = [\"お茶うけに干菓子ひがしをすすめるという思いつきは男性のものではなかった\", \n",
        "     \"現在の島町にあたる地域の戸数などに関する記録は以下の通りである\",\n",
        "     \"生徒を一人入学させれば歩合制で金がもらえるというシステムである\"]\n",
        "     \n",
        "# for token in t.tokenize(s[2]):\n",
        "#   print(token)\n",
        "\n",
        "def token2genshi(input_token, hinshi):\n",
        "  if input_token.part_of_speech.split(\",\")[0] == hinshi:\n",
        "    return \"\"\n",
        "  else:\n",
        "    return input_token.reading\n",
        "\n",
        "result_str = \"\"\n",
        "\n",
        "for sentence in s:\n",
        "  for token in t.tokenize(sentence):\n",
        "    result_str += token2genshi(token, \"助詞\") + \" \"\n",
        "  print(result_str) \n",
        "  result_str = \"\"\n",
        "  "
      ],
      "metadata": {
        "id": "WT5ECTKNmerd",
        "outputId": "2becac86-b008-43f4-8229-9f3b24d3b67e",
        "colab": {
          "base_uri": "https://localhost:8080/"
        }
      },
      "execution_count": 46,
      "outputs": [
        {
          "output_type": "stream",
          "name": "stdout",
          "text": [
            "オチャ ウケ  ヒガシ ヒガシ  ススメル  オモイツキ  ダンセイ  モノ デ  ナカッ タ \n",
            "ゲンザイ  シママチ  チイキ  コスウ   キロク  イカ  トオリ デ アル \n",
            "セイト  イチ ニン ニュウガク サ セレ  ブアイ セイ  キン  モラエル  システム デ アル \n"
          ]
        }
      ]
    },
    {
      "cell_type": "markdown",
      "source": [
        "****"
      ],
      "metadata": {
        "id": "skfAPKoLp4wg"
      }
    },
    {
      "cell_type": "code",
      "source": [],
      "metadata": {
        "id": "0nXPQXvUp5_j"
      },
      "execution_count": 46,
      "outputs": []
    }
  ]
}