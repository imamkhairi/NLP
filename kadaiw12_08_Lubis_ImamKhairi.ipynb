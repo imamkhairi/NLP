{
  "nbformat": 4,
  "nbformat_minor": 0,
  "metadata": {
    "colab": {
      "provenance": [],
      "authorship_tag": "ABX9TyMHH208+/NNP5uWy4zDHVsa",
      "include_colab_link": true
    },
    "kernelspec": {
      "name": "python3",
      "display_name": "Python 3"
    },
    "language_info": {
      "name": "python"
    }
  },
  "cells": [
    {
      "cell_type": "markdown",
      "metadata": {
        "id": "view-in-github",
        "colab_type": "text"
      },
      "source": [
        "<a href=\"https://colab.research.google.com/github/imamkhairi/NLP/blob/main/kadaiw12_08_Lubis_ImamKhairi.ipynb\" target=\"_parent\"><img src=\"https://colab.research.google.com/assets/colab-badge.svg\" alt=\"Open In Colab\"/></a>"
      ]
    },
    {
      "cell_type": "markdown",
      "source": [
        "#Nyoba Dulu"
      ],
      "metadata": {
        "id": "S2jCWERJ3Kxe"
      }
    },
    {
      "cell_type": "markdown",
      "source": [
        "##Change string using sub"
      ],
      "metadata": {
        "id": "rU0pH1873Q57"
      }
    },
    {
      "cell_type": "code",
      "execution_count": 3,
      "metadata": {
        "id": "HttoO08e2goA",
        "outputId": "22d5a8e5-5ce1-4981-dea2-4c853187e8a9",
        "colab": {
          "base_uri": "https://localhost:8080/"
        }
      },
      "outputs": [
        {
          "output_type": "stream",
          "name": "stdout",
          "text": [
            "私は柴犬が好きです。\n",
            "私はシャム猫が好きです。\n"
          ]
        }
      ],
      "source": [
        "import re \n",
        "\n",
        "s = \"私は柴犬が好きです。\"\n",
        "\n",
        "print(s)\n",
        "s = re.sub(\"柴犬\", \"シャム猫\", s)\n",
        "print(s)"
      ]
    },
    {
      "cell_type": "code",
      "source": [],
      "metadata": {
        "id": "b7YxIdyl3B6R"
      },
      "execution_count": 3,
      "outputs": []
    }
  ]
}