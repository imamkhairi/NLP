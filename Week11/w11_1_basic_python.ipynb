{
 "cells": [
  {
   "cell_type": "markdown",
   "metadata": {
    "id": "a2kFYtkPiECu"
   },
   "source": [
    "## 1月16日（月）　自然言語処理　実習1-1\n",
    "\n",
    "1. 簡単なpythonの基礎\n",
    "2. 形態素解析 janome を使ってみる．\n"
   ]
  },
  {
   "cell_type": "markdown",
   "metadata": {
    "id": "1EaYXmKliECx"
   },
   "source": [
    "## 1.  簡単なpythonの基礎\n",
    "pythonの基礎を説明する．"
   ]
  },
  {
   "cell_type": "code",
   "execution_count": 3,
   "metadata": {
    "id": "bnYmCyyhrLnp"
   },
   "outputs": [
    {
     "ename": "ModuleNotFoundError",
     "evalue": "No module named 'google.colab'",
     "output_type": "error",
     "traceback": [
      "\u001b[0;31m---------------------------------------------------------------------------\u001b[0m",
      "\u001b[0;31mModuleNotFoundError\u001b[0m                       Traceback (most recent call last)",
      "\u001b[0;32m<ipython-input-3-d5df0069828e>\u001b[0m in \u001b[0;36m<module>\u001b[0;34m\u001b[0m\n\u001b[0;32m----> 1\u001b[0;31m \u001b[0;32mfrom\u001b[0m \u001b[0mgoogle\u001b[0m\u001b[0;34m.\u001b[0m\u001b[0mcolab\u001b[0m \u001b[0;32mimport\u001b[0m \u001b[0mdrive\u001b[0m\u001b[0;34m\u001b[0m\u001b[0;34m\u001b[0m\u001b[0m\n\u001b[0m\u001b[1;32m      2\u001b[0m \u001b[0mdrive\u001b[0m\u001b[0;34m.\u001b[0m\u001b[0mmount\u001b[0m\u001b[0;34m(\u001b[0m\u001b[0;34m'/content/drive'\u001b[0m\u001b[0;34m)\u001b[0m\u001b[0;34m\u001b[0m\u001b[0;34m\u001b[0m\u001b[0m\n",
      "\u001b[0;31mModuleNotFoundError\u001b[0m: No module named 'google.colab'"
     ]
    }
   ],
   "source": [
    "from google.colab import drive\n",
    "drive.mount('/content/drive')"
   ]
  },
  {
   "cell_type": "markdown",
   "metadata": {
    "id": "3jO4XvlciECx"
   },
   "source": [
    "## ●変数と型\n",
    "Pythonでは、変数を使用する前に何らかの記述をする必要ありません。  \n",
    "以下のように、値を代入するところから記述を始めることができます。  "
   ]
  },
  {
   "cell_type": "code",
   "execution_count": null,
   "metadata": {
    "id": "Wr7QEx5EiECy"
   },
   "outputs": [],
   "source": [
    "a = 123"
   ]
  },
  {
   "cell_type": "markdown",
   "metadata": {
    "id": "iD676Hp2iECy"
   },
   "source": [
    "Pythonは、変数に対して型の明示は不要です。\n",
    "例えば、整数型の変数に文字列を代入すれば、それは文字列型の変数になります。\n",
    "Pythonの主な型を以下に示します。"
   ]
  },
  {
   "cell_type": "code",
   "execution_count": null,
   "metadata": {
    "id": "3y96rUmEiECz"
   },
   "outputs": [],
   "source": [
    "a = 123             # 整数型（int）\n",
    "b = 123.456         # 浮動小数点型（float）\n",
    "c = \"Hello World!\"  # 文字列型（str）\n",
    "d = True            # 論理型（bool）\n",
    "e = [1, 2, 3]       # リスト型（list）"
   ]
  },
  {
   "cell_type": "markdown",
   "metadata": {
    "id": "2_26JG2aiECz"
   },
   "source": [
    "#はコメントを表し、同じ行のそれ以降はコードとして認識されることはありません。\n",
    "\n",
    "また、bool型の値は数値として扱うことができます。\n",
    "Trueは1でFalseは0として扱われます。\n",
    "以下の例では、TrueとFalseを足していますが、結果は0と1の和の1になります。"
   ]
  },
  {
   "cell_type": "code",
   "execution_count": null,
   "metadata": {
    "id": "N4O68vwYiECz"
   },
   "outputs": [],
   "source": [
    "a = True; b = False\n",
    "print(a+b)"
   ]
  },
  {
   "cell_type": "markdown",
   "metadata": {
    "id": "rXoFHVF6iECz"
   },
   "source": [
    "Pythonでは、上記のように`;`（セミコロン）で区切ることで、一行内に複数の処理を書くことができます。 \n",
    "\n",
    "また、浮動小数点型の値は指数表記が可能です。以下のように`e`を用いて小数を表記することができます。"
   ]
  },
  {
   "cell_type": "code",
   "execution_count": null,
   "metadata": {
    "id": "pwGcAROgiEC0"
   },
   "outputs": [],
   "source": [
    "1.2e5   # 1.2x10の5乗 120000\n",
    "1.2e-5  # 1.2x10の-5乗 0.000012"
   ]
  },
  {
   "cell_type": "markdown",
   "metadata": {
    "id": "edU90Uh4iEC0"
   },
   "source": [
    "## ●演算子\n",
    "Pythonの演算子については，以下のようになっています．"
   ]
  },
  {
   "cell_type": "code",
   "execution_count": null,
   "metadata": {
    "id": "WNdwylqsiEC0"
   },
   "outputs": [],
   "source": [
    "a = 3; b = 4\n",
    "\n",
    "c = a + b               # 足し算\n",
    "print(c) \n",
    "\n",
    "d = a < b               # 比較（小さいかどうか）\n",
    "print(d)\n",
    "\n",
    "e = 3 < 4 and 4 < 5     # 論理和\n",
    "print(e)"
   ]
  },
  {
   "cell_type": "markdown",
   "metadata": {
    "id": "ZFHO4LNeiEC0"
   },
   "source": [
    "主な演算子\n",
    "\n",
    "||||\n",
    "|:-:|:-:|:--|\n",
    "|算術演算子| \\+ | 足し算 |\n",
    "||- | 引き算 |\n",
    "|| * | かける |\n",
    "|| / | 割る（小数） |\n",
    "|| // | 割る（整数） |\n",
    "|| % | 余り |\n",
    "|| ** | べき乗 |\n",
    "|比較演算子| < | 小さい |\n",
    "|| > | 大きい |\n",
    "|| <= | 以上 |\n",
    "|| >= | 以下 |\n",
    "|| == | 等しい |\n",
    "|| != | 等しくない |\n",
    "|論理演算子| and | 両者を満たす |\n",
    "|| or | どちらか片方を満たす |\n",
    "|| not | 満たさない |\n",
    "||||"
   ]
  },
  {
   "cell_type": "markdown",
   "metadata": {
    "id": "3QJeEQhpiEC1"
   },
   "source": [
    "## ●リスト\n",
    "リストは、複数の値をまとめて扱う場合に使用します。  \n",
    "リストは全体を`[]`で囲み、各要素は`,`で区切ります。  \n",
    "Pythonのリストはどのような型の値でも格納することができ、リストの中にリストを格納することもできます。  \n",
    "リストの各要素へのアクセスはインデックスを使い、要素の追加や入れ替えなどが可能です。 \n",
    "要素は0からカウントします。"
   ]
  },
  {
   "cell_type": "code",
   "execution_count": null,
   "metadata": {
    "id": "Xk9XRg7PiEC1"
   },
   "outputs": [],
   "source": [
    "a = [1, 2, 3, 4, 5]     # リストの作成\n",
    "\n",
    "b = a[2]                # 3番目の要素を取得\n",
    "print(b)\n",
    "\n",
    "a.append(6)             # 末尾に要素を追加する\n",
    "print(a)\n",
    "\n",
    "a[2] = 7                # 要素の入れ替え\n",
    "print(a)"
   ]
  },
  {
   "cell_type": "markdown",
   "metadata": {
    "id": "C3esClZ9iEC1"
   },
   "source": [
    "## ●タプル\n",
    "タプルはリストと同じく複数の値をまとめて扱いたいときに利用しますが、要素の追加や削除、入れ替えなどはできません。  \n",
    "タプルは全体を`()`で囲み、各要素は`,`で区切ります。  \n",
    "要素を変更する予定が無い場合は、リストよりもタプルを使用する方がよいでしょう。  "
   ]
  },
  {
   "cell_type": "code",
   "execution_count": 2,
   "metadata": {
    "id": "AHhIY921iEC1"
   },
   "outputs": [
    {
     "name": "stdout",
     "output_type": "stream",
     "text": [
      "3\n"
     ]
    }
   ],
   "source": [
    "a = (1, 2, 3, 4, 5)     # タプルの作成\n",
    "\n",
    "b = a[2]                # 3番目の要素を取得\n",
    "print(b)"
   ]
  },
  {
   "cell_type": "markdown",
   "metadata": {
    "id": "Od5LfU-ziEC1"
   },
   "source": [
    "要素が1つだけのタプルは、以下のように要素の直後に`,`が必要です。"
   ]
  },
  {
   "cell_type": "code",
   "execution_count": 1,
   "metadata": {
    "id": "izOsrYgSiEC2"
   },
   "outputs": [
    {
     "data": {
      "text/plain": [
       "(3,)"
      ]
     },
     "execution_count": 1,
     "metadata": {},
     "output_type": "execute_result"
    }
   ],
   "source": [
    "(3,)"
   ]
  },
  {
   "cell_type": "markdown",
   "metadata": {
    "id": "tCuczmE0iEC2"
   },
   "source": [
    "リストやタプルの要素は、以下のようにしてまとめて変数に代入することが可能です。"
   ]
  },
  {
   "cell_type": "code",
   "execution_count": null,
   "metadata": {
    "id": "zn4IMGdliEC2"
   },
   "outputs": [],
   "source": [
    "a = [1, 2, 3]\n",
    "a1, a2, a3 = a\n",
    "print(a1, a2, a3)\n",
    "\n",
    "b = (4, 5, 6)\n",
    "b1, b2, b3 = b\n",
    "print(b1, b2, b3) "
   ]
  },
  {
   "cell_type": "markdown",
   "metadata": {
    "id": "aHTBv1LViEC2"
   },
   "source": [
    "## ●if文\n",
    "分岐にはif文を用います。  \n",
    "ifの条件が満たされていなければ、elifの条件が上から順番に判定されます。  \n",
    "これらの条件がすべて満たされていなければ、else内の処理が実行されます。  \n",
    "\n",
    "多くのプログラミング言語では分岐や関数のブロックを表すために{ }を使用しますが、Pythonではブロックの範囲を行頭のインデントで表します。  \n",
    "すなわち、インデントしていない行が出現したら、その直前にブロックは終了していることになります。  \n",
    "インデントには、半角スペース4つを用いることが多いです。"
   ]
  },
  {
   "cell_type": "code",
   "execution_count": null,
   "metadata": {
    "id": "xF1NVKKniEC2"
   },
   "outputs": [],
   "source": [
    "a = 7\n",
    "if a < 12:\n",
    "    print(\"Good morning!\")\n",
    "elif a < 17:\n",
    "    print(\"Good afternoon!\")\n",
    "elif a < 21:\n",
    "    print(\"Good evening!\")\n",
    "else:\n",
    "    print(\"Good night!\")"
   ]
  },
  {
   "cell_type": "markdown",
   "metadata": {
    "id": "Srhyu8mqiEC2"
   },
   "source": [
    "## ●for文\n",
    "指定した回数ループするためにはfor文を用います。  \n",
    "ループする範囲を指定するためには、リストやrangeをin演算子とともに用います。  \n",
    "\n",
    "rangeの使い方は次のとおりです。[ ]で囲まれた引数は省略可能です。\n",
    "\n",
    "```\n",
    "range([開始番号,] 終了番号［, ステップ数])\n",
    "```\n",
    "\n",
    "例えばrange(3)は、0から2までの範囲になります。"
   ]
  },
  {
   "cell_type": "code",
   "execution_count": null,
   "metadata": {
    "id": "Xl7OyMeKiEC2"
   },
   "outputs": [],
   "source": [
    "for a in [4, 7, 10]:    # リストを使ったループ\n",
    "    print(a)\n",
    "    \n",
    "for a in range(3):      # rangeを使ったループ\n",
    "    print(a)"
   ]
  },
  {
   "cell_type": "markdown",
   "metadata": {
    "id": "ua3MUyGXiEC3"
   },
   "source": [
    "## ●関数\n",
    "関数を用いることで、複数行の処理をまとめることができます。  \n",
    "関数はdefのあとに関数名を記述し、()の中に引数を記述します。  \n",
    "returnのあとの値が返り値になります。  "
   ]
  },
  {
   "cell_type": "code",
   "execution_count": null,
   "metadata": {
    "id": "7vm2FIYCiEC3"
   },
   "outputs": [],
   "source": [
    "def add(a, b):          # 関数の定義\n",
    "    c = a + b\n",
    "    return c\n",
    "\n",
    "print(add(3, 4))        # 関数の実行"
   ]
  },
  {
   "cell_type": "markdown",
   "metadata": {
    "id": "-agFig_XiEC3"
   },
   "source": [
    "引数にはデフォルト値を設定できます。  \n",
    "デフォルト値を設定すると、関数を呼び出す際にその引数を省略できます。  \n",
    "以下の例では、第2引数にデフォルト値が設定されています。  "
   ]
  },
  {
   "cell_type": "code",
   "execution_count": null,
   "metadata": {
    "id": "_V9g2NWHiEC3"
   },
   "outputs": [],
   "source": [
    "def add(a, b=4):        # 第2引数にデフォルト値を設定\n",
    "    c = a + b\n",
    "    return c\n",
    "\n",
    "print(add(3))           # 第2引数は指定しない"
   ]
  },
  {
   "cell_type": "markdown",
   "metadata": {
    "id": "zQitqvOwiEC3"
   },
   "source": [
    "また、`*`（アスタリスク）を付けたタプルを用いて、複数の引数を一度に渡すことができます。"
   ]
  },
  {
   "cell_type": "code",
   "execution_count": null,
   "metadata": {
    "id": "8UEEZU6jiEC3"
   },
   "outputs": [],
   "source": [
    "def add(a, b ,c):\n",
    "    d = a + b + c\n",
    "    print(d)\n",
    "\n",
    "e = (1, 2, 3)\n",
    "add(*e)           # 複数の引数を一度に渡す"
   ]
  },
  {
   "cell_type": "markdown",
   "metadata": {
    "id": "v9eKJcDLiEC3"
   },
   "source": [
    "## ●変数のスコープ\n",
    "関数内で定義された変数がローカル変数、関数外で定義された変数がグローバル変数です。  \n",
    "ローカル変数は同じ関数内からのみ参照できますが、グローバル変数はどこからでも参照できます。  "
   ]
  },
  {
   "cell_type": "code",
   "execution_count": null,
   "metadata": {
    "id": "x60bljlsiEC3"
   },
   "outputs": [],
   "source": [
    "a = 123         # グローバル変数\n",
    "\n",
    "def showNum():\n",
    "    b = 456     # ローカル変数\n",
    "    print(a, b)\n",
    "    \n",
    "showNum()"
   ]
  },
  {
   "cell_type": "markdown",
   "metadata": {
    "id": "wYJGIuK2iEC4"
   },
   "source": [
    "Pythonでは、関数内でグローバル変数に値を代入しようとすると、新しいローカル変数とみなされます。  \n",
    "以下の例では、関数内でグローバル変数aに値を代入しても、グローバル変数aの値は変わっていません。"
   ]
  },
  {
   "cell_type": "code",
   "execution_count": null,
   "metadata": {
    "id": "Oz8Tp0mPiEC4"
   },
   "outputs": [],
   "source": [
    "a = 123\n",
    "\n",
    "def setLocal():\n",
    "    a = 456         # aはローカル変数とみなされる\n",
    "    print(\"Local:\", a)\n",
    "    \n",
    "setLocal()\n",
    "print(\"Global:\", a)"
   ]
  },
  {
   "cell_type": "markdown",
   "metadata": {
    "id": "QfG0WSEriEC4"
   },
   "source": [
    "グローバル変数の値を変更するためには、`global`もしくは`nonlocal`を用いて、変数がローカルではないことを明記する必要があります。  "
   ]
  },
  {
   "cell_type": "markdown",
   "metadata": {
    "id": "GKS_k-jTiEC4"
   },
   "source": [
    "## ●クラス\n",
    "Pythonでは、オブジェクト指向プログラミングが可能です。  \n",
    "オブジェクト指向は、オブジェクト同士の相互作用として、システムの振る舞いをとらえる考え方です。  \n",
    "\n",
    "オブジェクト指向には、クラスとインスタンスという概念があります。  \n",
    "クラスは設計図のようなもので、インスタンスは実体です。  \n",
    "クラスから複数のインスタンスを生成することができます。  \n",
    "クラスとインスタンスを総称して、オブジェクトといいます。  \n",
    "\n",
    "Pythonでクラスを定義するためには、`class`の表記を用います。  \n",
    "クラスを用いると、複数のメソッドをまとめることができます。  \n",
    "メソッドは関数に似ており、defで記述を開始します。  \n",
    "\n",
    "以下の例では、`Calc`クラス内に`__init__`メソッド、`add`メソッド、`multiply`メソッドが実装されています。"
   ]
  },
  {
   "cell_type": "code",
   "execution_count": null,
   "metadata": {
    "id": "4KEPCUrFiEC4"
   },
   "outputs": [],
   "source": [
    "class Calc:\n",
    "    def __init__(self, a):\n",
    "        self.a = a\n",
    "   \n",
    "    def add(self, b):\n",
    "        print(self.a + b)\n",
    "        \n",
    "    def multiply(self, b):\n",
    "        print(self.a * b)"
   ]
  },
  {
   "cell_type": "markdown",
   "metadata": {
    "id": "59Erh2J4iEC4"
   },
   "source": [
    "Pythonのメソッドは引数として`self`を受け取るという特徴があります。  \n",
    "このselfを用いて、インスタンス変数にアクセスすることができます。  \n",
    "インスタンス変数は、クラスからインスタンスを生成し、そちらの方でアクセスする変数です。  \n",
    "\n",
    "　`__init__`は特殊なメソッドで、コンストラクタと呼ばれています。  \n",
    " このメソッドで、インスタンスの初期設定を行います。  \n",
    " 上記のクラスでは、`self.a = a`で引数として受け取った値をインスタンス変数`a`に代入します。\n",
    "\n",
    "`add`メソッドと`multiply`メソッドでは、引数として受け取った値をインスタンス変数`a`と演算しています。  \n",
    "このように、一度メソッドで値が代入されたインスタンス変数は、同じインスタンスのどのメソッドからでも`self`を用いてアクセスすることができます。 \n",
    "\n",
    "上記のクラスCalcから、以下のようにインスタンスを生成しメソッドを呼び出すことができます。  \n",
    "この場合、`Calc(3)`でインスタンスを生成し、変数`calc`に代入しています。  "
   ]
  },
  {
   "cell_type": "code",
   "execution_count": null,
   "metadata": {
    "id": "_UzuCwppiEC4"
   },
   "outputs": [],
   "source": [
    "calc = Calc(3)\n",
    "calc.add(4)\n",
    "calc.multiply(4)"
   ]
  },
  {
   "cell_type": "markdown",
   "metadata": {
    "id": "DGyp80hziEC4"
   },
   "source": [
    "初期化時に3という値をインスタンスに渡し、addメソッドとmultiplyメソッドを呼び出します。  \n",
    "実行すると、4+3と4x3、それぞれの計算結果を得ることができます。  \n",
    "\n",
    "また、クラスには継承という概念があります。  \n",
    "クラスを継承することで、既存のクラスを引き継いで新たなクラスを定義することができます。  \n",
    "以下の例では、`Calc`クラスを継承して`CalcPlus`クラスを定義しています。  "
   ]
  },
  {
   "cell_type": "code",
   "execution_count": null,
   "metadata": {
    "id": "8hj2aqs6iEC4"
   },
   "outputs": [],
   "source": [
    "class CalcPlus(Calc):     # Calcを継承\n",
    "    def subtract(self, b):\n",
    "        print(self.a - b)\n",
    "        \n",
    "    def divide(self, b):\n",
    "        print(self.a / b)"
   ]
  },
  {
   "cell_type": "markdown",
   "metadata": {
    "id": "n__EMpj2iEC4"
   },
   "source": [
    "`subtract`メソッドと、`divide`メソッドが新たに追加されています。  \n",
    "それでは、CalcPlusメソッドからインスタンスを生成し、メソッドを呼び出してみましょう。  "
   ]
  },
  {
   "cell_type": "code",
   "execution_count": null,
   "metadata": {
    "id": "bvANO3ROiEC5"
   },
   "outputs": [],
   "source": [
    "calc_plus = CalcPlus(3)\n",
    "calc_plus.add(4)\n",
    "calc_plus.multiply(4)\n",
    "calc_plus.subtract(4)\n",
    "calc_plus.divide(4)"
   ]
  },
  {
   "cell_type": "markdown",
   "metadata": {
    "id": "QrxCwZC1iEC5"
   },
   "source": [
    "継承元の`Calc`クラスで定義されたメソッドも、これを継承した`CalcPlus`クラスで定義されたメソッドも、同じように呼び出すことができます。  \n",
    "このようなクラスの継承を利用すれば、複数のクラスの共通部分を継承元のクラスにまとめることができます。  "
   ]
  },
  {
   "cell_type": "markdown",
   "metadata": {
    "id": "gUxMKphHiEC5"
   },
   "source": [
    "## ●Linuxコマンド\n",
    "Linuxコマンドを実行することが可能です。<br>\n",
    "コマンドの前に「！」をつけるだけです。 <br>\n",
    "カレントディレクトリのパスを表示したい場合は， '!pwd' とすれば良いことになります。<br>\n",
    "また，notebookからpythonモジュールをインストールしたり，バージョンを表示させるときにも便利です。<br>\n",
    "モジュールをインストールする場合は '!pip install モジュール名'　と使います。<br>\n",
    "pipについては、こちらをご参照ください。　https://ja.wikipedia.org/wiki/Pip (wiki ペディア）"
   ]
  },
  {
   "cell_type": "code",
   "execution_count": null,
   "metadata": {
    "id": "fsO-zaafiEC5"
   },
   "outputs": [],
   "source": [
    "!pwd"
   ]
  },
  {
   "cell_type": "code",
   "execution_count": null,
   "metadata": {
    "id": "HEnER6kWiEC5"
   },
   "outputs": [],
   "source": [
    "!ls"
   ]
  },
  {
   "cell_type": "code",
   "execution_count": null,
   "metadata": {
    "id": "RwMEhtdAiEC5"
   },
   "outputs": [],
   "source": [
    "!date"
   ]
  },
  {
   "cell_type": "code",
   "execution_count": null,
   "metadata": {
    "id": "cEBPxmO4iEC5"
   },
   "outputs": [],
   "source": [
    "#モジュールのバージョンを表示\n",
    "!pip show requests"
   ]
  }
 ],
 "metadata": {
  "colab": {
   "provenance": []
  },
  "kernelspec": {
   "display_name": "Python 3",
   "language": "python",
   "name": "python3"
  },
  "language_info": {
   "codemirror_mode": {
    "name": "ipython",
    "version": 3
   },
   "file_extension": ".py",
   "mimetype": "text/x-python",
   "name": "python",
   "nbconvert_exporter": "python",
   "pygments_lexer": "ipython3",
   "version": "3.6.12"
  }
 },
 "nbformat": 4,
 "nbformat_minor": 1
}
